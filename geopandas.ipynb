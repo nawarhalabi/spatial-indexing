{
 "cells": [
  {
   "cell_type": "markdown",
   "metadata": {},
   "source": [
    "# GeoPandas\n",
    "\n",
    "https://geopandas.org/ A python package for reading, writing and processing geographical data. It has useful helper functions to query, index and manipulate geometric objects. Specifically those related to geographic objects.\n",
    "\n",
    "Other useful packages which geopandas uses:\n",
    "* pandas https://pandas.pydata.org/\n",
    "* shapely https://github.com/Toblerity/Shapely\n",
    "* pyproj https://pyproj4.github.io/pyproj/stable/\n",
    "* geopy https://github.com/geopy/geopy\n",
    "* rtree https://github.com/Toblerity/rtree\n",
    "* ...\n",
    "\n",
    "## Installation\n",
    "\n",
    "According to GeoPandas, you might have issues using pip on Windows. To be safe, use conda for installing binaries directly."
   ]
  },
  {
   "cell_type": "code",
   "execution_count": null,
   "metadata": {},
   "outputs": [],
   "source": [
    "!pip3 install geopandas"
   ]
  },
  {
   "cell_type": "code",
   "execution_count": null,
   "metadata": {},
   "outputs": [],
   "source": [
    "!conda install -c conda-forge geopandas"
   ]
  },
  {
   "cell_type": "code",
   "execution_count": 2,
   "metadata": {
    "scrolled": true
   },
   "outputs": [],
   "source": [
    "import geopandas as gpd\n",
    "import pandas as pd\n",
    "import matplotlib.pyplot as plt"
   ]
  },
  {
   "cell_type": "markdown",
   "metadata": {},
   "source": [
    "## Data\n",
    "\n",
    "Some options for reading data into GeoPandas DataFrames (the main difference is specifying the geometry column)\n",
    "\n",
    "* Just like Pandas. A GeoPandas DataFrame is a Pandas DataFrame with a geometry (column)\n",
    "* Has some helpful built-in data\n",
    "* SQL\n",
    "* ...\n",
    "\n",
    "### Using Pandas DataFrames\n",
    "\n",
    "* First, build a Pandas DataFrame\n",
    "* Second, use it to create a GeoDataFrame while specifying the geometry column"
   ]
  },
  {
   "cell_type": "code",
   "execution_count": 3,
   "metadata": {},
   "outputs": [],
   "source": [
    "# First create a Pandas DataFrame\n",
    "df = pd.DataFrame({\n",
    "    'City': ['Buenos Aires', 'Brasilia', 'Santiago', 'Bogota', 'Caracas'],\n",
    "    'Country': ['Argentina', 'Brazil', 'Chile', 'Colombia', 'Venezuela'],\n",
    "    'Latitude': [-34.58, -15.78, -33.45, 4.60, 10.48],\n",
    "    'Longitude': [-58.66, -47.91, -70.66, -74.08, -66.86]\n",
    "})"
   ]
  },
  {
   "cell_type": "code",
   "execution_count": 5,
   "metadata": {},
   "outputs": [],
   "source": [
    "# Then create a GeoPandas DataFrame from the Pandas DataFrame\n",
    "\n",
    "# From lat lng\n",
    "gdf = gpd.GeoDataFrame(\n",
    "    df, geometry=gpd.points_from_xy(df.Longitude, df.Latitude)\n",
    ")"
   ]
  },
  {
   "cell_type": "code",
   "execution_count": 6,
   "metadata": {},
   "outputs": [
    {
     "data": {
      "text/html": [
       "<div>\n",
       "<style scoped>\n",
       "    .dataframe tbody tr th:only-of-type {\n",
       "        vertical-align: middle;\n",
       "    }\n",
       "\n",
       "    .dataframe tbody tr th {\n",
       "        vertical-align: top;\n",
       "    }\n",
       "\n",
       "    .dataframe thead th {\n",
       "        text-align: right;\n",
       "    }\n",
       "</style>\n",
       "<table border=\"1\" class=\"dataframe\">\n",
       "  <thead>\n",
       "    <tr style=\"text-align: right;\">\n",
       "      <th></th>\n",
       "      <th>City</th>\n",
       "      <th>Country</th>\n",
       "      <th>Latitude</th>\n",
       "      <th>Longitude</th>\n",
       "      <th>geometry</th>\n",
       "    </tr>\n",
       "  </thead>\n",
       "  <tbody>\n",
       "    <tr>\n",
       "      <th>0</th>\n",
       "      <td>Buenos Aires</td>\n",
       "      <td>Argentina</td>\n",
       "      <td>-34.58</td>\n",
       "      <td>-58.66</td>\n",
       "      <td>POINT (-58.66000 -34.58000)</td>\n",
       "    </tr>\n",
       "    <tr>\n",
       "      <th>1</th>\n",
       "      <td>Brasilia</td>\n",
       "      <td>Brazil</td>\n",
       "      <td>-15.78</td>\n",
       "      <td>-47.91</td>\n",
       "      <td>POINT (-47.91000 -15.78000)</td>\n",
       "    </tr>\n",
       "  </tbody>\n",
       "</table>\n",
       "</div>"
      ],
      "text/plain": [
       "           City    Country  Latitude  Longitude                     geometry\n",
       "0  Buenos Aires  Argentina    -34.58     -58.66  POINT (-58.66000 -34.58000)\n",
       "1      Brasilia     Brazil    -15.78     -47.91  POINT (-47.91000 -15.78000)"
      ]
     },
     "execution_count": 6,
     "metadata": {},
     "output_type": "execute_result"
    }
   ],
   "source": [
    "gdf.head(2)"
   ]
  },
  {
   "cell_type": "markdown",
   "metadata": {},
   "source": [
    "### Using Built-in Data\n",
    "\n",
    "* There are a few available datasets"
   ]
  },
  {
   "cell_type": "code",
   "execution_count": 7,
   "metadata": {},
   "outputs": [],
   "source": [
    "world = gpd.read_file(gpd.datasets.get_path('naturalearth_lowres'))\n",
    "nybb = gpd.read_file(gpd.datasets.get_path('nybb'))"
   ]
  },
  {
   "cell_type": "code",
   "execution_count": 8,
   "metadata": {},
   "outputs": [
    {
     "data": {
      "text/plain": [
       "['naturalearth_cities', 'naturalearth_lowres', 'nybb']"
      ]
     },
     "execution_count": 8,
     "metadata": {},
     "output_type": "execute_result"
    }
   ],
   "source": [
    "gpd.datasets.available"
   ]
  },
  {
   "cell_type": "code",
   "execution_count": 9,
   "metadata": {},
   "outputs": [
    {
     "data": {
      "text/html": [
       "<div>\n",
       "<style scoped>\n",
       "    .dataframe tbody tr th:only-of-type {\n",
       "        vertical-align: middle;\n",
       "    }\n",
       "\n",
       "    .dataframe tbody tr th {\n",
       "        vertical-align: top;\n",
       "    }\n",
       "\n",
       "    .dataframe thead th {\n",
       "        text-align: right;\n",
       "    }\n",
       "</style>\n",
       "<table border=\"1\" class=\"dataframe\">\n",
       "  <thead>\n",
       "    <tr style=\"text-align: right;\">\n",
       "      <th></th>\n",
       "      <th>pop_est</th>\n",
       "      <th>continent</th>\n",
       "      <th>name</th>\n",
       "      <th>iso_a3</th>\n",
       "      <th>gdp_md_est</th>\n",
       "      <th>geometry</th>\n",
       "    </tr>\n",
       "  </thead>\n",
       "  <tbody>\n",
       "    <tr>\n",
       "      <th>0</th>\n",
       "      <td>920938</td>\n",
       "      <td>Oceania</td>\n",
       "      <td>Fiji</td>\n",
       "      <td>FJI</td>\n",
       "      <td>8374.0</td>\n",
       "      <td>MULTIPOLYGON (((180.00000 -16.06713, 180.00000...</td>\n",
       "    </tr>\n",
       "    <tr>\n",
       "      <th>1</th>\n",
       "      <td>53950935</td>\n",
       "      <td>Africa</td>\n",
       "      <td>Tanzania</td>\n",
       "      <td>TZA</td>\n",
       "      <td>150600.0</td>\n",
       "      <td>POLYGON ((33.90371 -0.95000, 34.07262 -1.05982...</td>\n",
       "    </tr>\n",
       "  </tbody>\n",
       "</table>\n",
       "</div>"
      ],
      "text/plain": [
       "    pop_est continent      name iso_a3  gdp_md_est  \\\n",
       "0    920938   Oceania      Fiji    FJI      8374.0   \n",
       "1  53950935    Africa  Tanzania    TZA    150600.0   \n",
       "\n",
       "                                            geometry  \n",
       "0  MULTIPOLYGON (((180.00000 -16.06713, 180.00000...  \n",
       "1  POLYGON ((33.90371 -0.95000, 34.07262 -1.05982...  "
      ]
     },
     "execution_count": 9,
     "metadata": {},
     "output_type": "execute_result"
    }
   ],
   "source": [
    "world.head(2)"
   ]
  },
  {
   "cell_type": "markdown",
   "metadata": {},
   "source": [
    "### Data from the internet\n",
    "* One can read GeoJSON or shape files directly from the internet"
   ]
  },
  {
   "cell_type": "code",
   "execution_count": null,
   "metadata": {},
   "outputs": [],
   "source": [
    "world_high_res = gpd.read_file(\"https://www.naturalearthdata.com/http//www.naturalearthdata.com/download/50m/cultural/ne_50m_admin_0_countries.zip\")"
   ]
  },
  {
   "cell_type": "code",
   "execution_count": 397,
   "metadata": {},
   "outputs": [
    {
     "data": {
      "image/png": "[encoded data removed]",
      "text/plain": [
       "<Figure size 432x288 with 1 Axes>"
      ]
     },
     "metadata": {
      "needs_background": "light"
     },
     "output_type": "display_data"
    }
   ],
   "source": [
    "ax = world_high_res[world_high_res.CONTINENT == \"South America\"].plot(color=\"white\", edgecolor=\"black\")\n",
    "gdf.plot(ax=ax, color='red')\n",
    "\n",
    "plt.show()"
   ]
  },
  {
   "cell_type": "markdown",
   "metadata": {},
   "source": [
    "## GeoDataFrame\n",
    "\n",
    "* A Class which inherits from the Pandas DataFrame Class\n",
    "* Has a predefined geometry column (points, polygons, multipolygons)\n",
    "* Exposes geographic methods and properties:\n",
    "  * intersects\n",
    "  * touches\n",
    "  * sindex\n",
    "  * crs\n",
    "  * ..."
   ]
  },
  {
   "cell_type": "code",
   "execution_count": 20,
   "metadata": {},
   "outputs": [
    {
     "data": {
      "text/plain": [
       "geopandas.geodataframe.GeoDataFrame"
      ]
     },
     "execution_count": 20,
     "metadata": {},
     "output_type": "execute_result"
    }
   ],
   "source": [
    "type(world)"
   ]
  },
  {
   "cell_type": "code",
   "execution_count": 75,
   "metadata": {},
   "outputs": [
    {
     "data": {
      "text/plain": [
       "geopandas.geoseries.GeoSeries"
      ]
     },
     "execution_count": 75,
     "metadata": {},
     "output_type": "execute_result"
    }
   ],
   "source": [
    "type(world.geometry)"
   ]
  },
  {
   "cell_type": "markdown",
   "metadata": {},
   "source": [
    "### CRS (Coordinate Reference System)"
   ]
  },
  {
   "cell_type": "code",
   "execution_count": 21,
   "metadata": {},
   "outputs": [
    {
     "data": {
      "text/plain": [
       "<Geographic 2D CRS: EPSG:4326>\n",
       "Name: WGS 84\n",
       "Axis Info [ellipsoidal]:\n",
       "- Lat[north]: Geodetic latitude (degree)\n",
       "- Lon[east]: Geodetic longitude (degree)\n",
       "Area of Use:\n",
       "- name: World.\n",
       "- bounds: (-180.0, -90.0, 180.0, 90.0)\n",
       "Datum: World Geodetic System 1984 ensemble\n",
       "- Ellipsoid: WGS 84\n",
       "- Prime Meridian: Greenwich"
      ]
     },
     "execution_count": 21,
     "metadata": {},
     "output_type": "execute_result"
    }
   ],
   "source": [
    "world.crs"
   ]
  },
  {
   "cell_type": "code",
   "execution_count": 22,
   "metadata": {},
   "outputs": [
    {
     "data": {
      "text/plain": [
       "0      MULTIPOLYGON (((180.00000 -16.06713, 180.00000...\n",
       "1      POLYGON ((33.90371 -0.95000, 34.07262 -1.05982...\n",
       "2      POLYGON ((-8.66559 27.65643, -8.66512 27.58948...\n",
       "3      MULTIPOLYGON (((-122.84000 49.00000, -122.9742...\n",
       "4      MULTIPOLYGON (((-122.84000 49.00000, -120.0000...\n",
       "                             ...                        \n",
       "172    POLYGON ((18.82982 45.90887, 18.82984 45.90888...\n",
       "173    POLYGON ((20.07070 42.58863, 19.80161 42.50009...\n",
       "174    POLYGON ((20.59025 41.85541, 20.52295 42.21787...\n",
       "175    POLYGON ((-61.68000 10.76000, -61.10500 10.890...\n",
       "176    POLYGON ((30.83385 3.50917, 29.95350 4.17370, ...\n",
       "Name: geometry, Length: 177, dtype: geometry"
      ]
     },
     "execution_count": 22,
     "metadata": {},
     "output_type": "execute_result"
    }
   ],
   "source": [
    "world.geometry"
   ]
  },
  {
   "cell_type": "markdown",
   "metadata": {},
   "source": [
    "## Working with Geo Data"
   ]
  },
  {
   "cell_type": "markdown",
   "metadata": {},
   "source": [
    "### Area of Polygons"
   ]
  },
  {
   "cell_type": "code",
   "execution_count": 23,
   "metadata": {},
   "outputs": [],
   "source": [
    "# 54009 is a reference system that preserves area\n",
    "world[\"geometry_ESRI:54009\"] = world[\"geometry\"].to_crs(\"ESRI:54009\")\n",
    "world[\"area\"] = world[\"geometry_ESRI:54009\"].area // 1e6"
   ]
  },
  {
   "cell_type": "code",
   "execution_count": 441,
   "metadata": {},
   "outputs": [
    {
     "data": {
      "text/html": [
       "<div>\n",
       "<style scoped>\n",
       "    .dataframe tbody tr th:only-of-type {\n",
       "        vertical-align: middle;\n",
       "    }\n",
       "\n",
       "    .dataframe tbody tr th {\n",
       "        vertical-align: top;\n",
       "    }\n",
       "\n",
       "    .dataframe thead th {\n",
       "        text-align: right;\n",
       "    }\n",
       "</style>\n",
       "<table border=\"1\" class=\"dataframe\">\n",
       "  <thead>\n",
       "    <tr style=\"text-align: right;\">\n",
       "      <th></th>\n",
       "      <th>pop_est</th>\n",
       "      <th>continent</th>\n",
       "      <th>name</th>\n",
       "      <th>iso_a3</th>\n",
       "      <th>gdp_md_est</th>\n",
       "      <th>geometry</th>\n",
       "      <th>geometry_ESRI:54009</th>\n",
       "      <th>area</th>\n",
       "    </tr>\n",
       "  </thead>\n",
       "  <tbody>\n",
       "    <tr>\n",
       "      <th>121</th>\n",
       "      <td>80594017</td>\n",
       "      <td>Europe</td>\n",
       "      <td>Germany</td>\n",
       "      <td>DEU</td>\n",
       "      <td>3979000.0</td>\n",
       "      <td>POLYGON ((14.11969 53.75703, 14.35332 53.24817...</td>\n",
       "      <td>POLYGON ((1018674.630 6261050.121, 1043430.938...</td>\n",
       "      <td>356928.0</td>\n",
       "    </tr>\n",
       "  </tbody>\n",
       "</table>\n",
       "</div>"
      ],
      "text/plain": [
       "      pop_est continent     name iso_a3  gdp_md_est  \\\n",
       "121  80594017    Europe  Germany    DEU   3979000.0   \n",
       "\n",
       "                                              geometry  \\\n",
       "121  POLYGON ((14.11969 53.75703, 14.35332 53.24817...   \n",
       "\n",
       "                                   geometry_ESRI:54009      area  \n",
       "121  POLYGON ((1018674.630 6261050.121, 1043430.938...  356928.0  "
      ]
     },
     "execution_count": 441,
     "metadata": {},
     "output_type": "execute_result"
    }
   ],
   "source": [
    "world[world.name == \"Germany\"]"
   ]
  },
  {
   "cell_type": "code",
   "execution_count": 442,
   "metadata": {},
   "outputs": [
    {
     "data": {
      "text/html": [
       "<div>\n",
       "<style scoped>\n",
       "    .dataframe tbody tr th:only-of-type {\n",
       "        vertical-align: middle;\n",
       "    }\n",
       "\n",
       "    .dataframe tbody tr th {\n",
       "        vertical-align: top;\n",
       "    }\n",
       "\n",
       "    .dataframe thead th {\n",
       "        text-align: right;\n",
       "    }\n",
       "</style>\n",
       "<table border=\"1\" class=\"dataframe\">\n",
       "  <thead>\n",
       "    <tr style=\"text-align: right;\">\n",
       "      <th></th>\n",
       "      <th>pop_est</th>\n",
       "      <th>continent</th>\n",
       "      <th>name</th>\n",
       "      <th>iso_a3</th>\n",
       "      <th>gdp_md_est</th>\n",
       "      <th>geometry</th>\n",
       "      <th>geometry_ESRI:54009</th>\n",
       "      <th>area</th>\n",
       "    </tr>\n",
       "  </thead>\n",
       "  <tbody>\n",
       "    <tr>\n",
       "      <th>18</th>\n",
       "      <td>142257519</td>\n",
       "      <td>Europe</td>\n",
       "      <td>Russia</td>\n",
       "      <td>RUS</td>\n",
       "      <td>3745000.0</td>\n",
       "      <td>MULTIPOLYGON (((178.725 71.099, 180.000 71.516...</td>\n",
       "      <td>MULTIPOLYGON (((8769033.872 7865244.997, 87094...</td>\n",
       "      <td>16953324.0</td>\n",
       "    </tr>\n",
       "    <tr>\n",
       "      <th>159</th>\n",
       "      <td>4050</td>\n",
       "      <td>Antarctica</td>\n",
       "      <td>Antarctica</td>\n",
       "      <td>ATA</td>\n",
       "      <td>810.0</td>\n",
       "      <td>MULTIPOLYGON (((-48.661 -78.047, -48.151 -78.0...</td>\n",
       "      <td>MULTIPOLYGON (((-1784201.372 -8394731.809, -17...</td>\n",
       "      <td>11990339.0</td>\n",
       "    </tr>\n",
       "    <tr>\n",
       "      <th>3</th>\n",
       "      <td>35623680</td>\n",
       "      <td>North America</td>\n",
       "      <td>Canada</td>\n",
       "      <td>CAN</td>\n",
       "      <td>1674000.0</td>\n",
       "      <td>MULTIPOLYGON (((-122.840 49.000, -122.974 49.0...</td>\n",
       "      <td>MULTIPOLYGON (((-9464830.276 5768352.350, -947...</td>\n",
       "      <td>9996089.0</td>\n",
       "    </tr>\n",
       "    <tr>\n",
       "      <th>4</th>\n",
       "      <td>326625791</td>\n",
       "      <td>North America</td>\n",
       "      <td>United States of America</td>\n",
       "      <td>USA</td>\n",
       "      <td>18560000.0</td>\n",
       "      <td>MULTIPOLYGON (((-122.840 49.000, -120.000 49.0...</td>\n",
       "      <td>MULTIPOLYGON (((-9464830.276 5768352.350, -924...</td>\n",
       "      <td>9526449.0</td>\n",
       "    </tr>\n",
       "    <tr>\n",
       "      <th>139</th>\n",
       "      <td>1379302771</td>\n",
       "      <td>Asia</td>\n",
       "      <td>China</td>\n",
       "      <td>CHN</td>\n",
       "      <td>21140000.0</td>\n",
       "      <td>MULTIPOLYGON (((109.475 18.198, 108.655 18.508...</td>\n",
       "      <td>MULTIPOLYGON (((10629598.599 2235514.570, 1053...</td>\n",
       "      <td>9428688.0</td>\n",
       "    </tr>\n",
       "  </tbody>\n",
       "</table>\n",
       "</div>"
      ],
      "text/plain": [
       "        pop_est      continent                      name iso_a3  gdp_md_est  \\\n",
       "18    142257519         Europe                    Russia    RUS   3745000.0   \n",
       "159        4050     Antarctica                Antarctica    ATA       810.0   \n",
       "3      35623680  North America                    Canada    CAN   1674000.0   \n",
       "4     326625791  North America  United States of America    USA  18560000.0   \n",
       "139  1379302771           Asia                     China    CHN  21140000.0   \n",
       "\n",
       "                                              geometry  \\\n",
       "18   MULTIPOLYGON (((178.725 71.099, 180.000 71.516...   \n",
       "159  MULTIPOLYGON (((-48.661 -78.047, -48.151 -78.0...   \n",
       "3    MULTIPOLYGON (((-122.840 49.000, -122.974 49.0...   \n",
       "4    MULTIPOLYGON (((-122.840 49.000, -120.000 49.0...   \n",
       "139  MULTIPOLYGON (((109.475 18.198, 108.655 18.508...   \n",
       "\n",
       "                                   geometry_ESRI:54009        area  \n",
       "18   MULTIPOLYGON (((8769033.872 7865244.997, 87094...  16953324.0  \n",
       "159  MULTIPOLYGON (((-1784201.372 -8394731.809, -17...  11990339.0  \n",
       "3    MULTIPOLYGON (((-9464830.276 5768352.350, -947...   9996089.0  \n",
       "4    MULTIPOLYGON (((-9464830.276 5768352.350, -924...   9526449.0  \n",
       "139  MULTIPOLYGON (((10629598.599 2235514.570, 1053...   9428688.0  "
      ]
     },
     "execution_count": 442,
     "metadata": {},
     "output_type": "execute_result"
    }
   ],
   "source": [
    "world.sort_values(\"area\", ascending=False).head(5)"
   ]
  },
  {
   "cell_type": "markdown",
   "metadata": {},
   "source": [
    "# Plotting more than just geo data"
   ]
  },
  {
   "cell_type": "code",
   "execution_count": 59,
   "metadata": {},
   "outputs": [],
   "source": [
    "GDP = (world.gdp_md_est * 100 / world.pop_est).clip(0, 10)"
   ]
  },
  {
   "cell_type": "code",
   "execution_count": 60,
   "metadata": {},
   "outputs": [
    {
     "data": {
      "text/plain": [
       "<AxesSubplot:>"
      ]
     },
     "execution_count": 60,
     "metadata": {},
     "output_type": "execute_result"
    },
    {
     "data": {
      "image/png": "[encoded data removed]",
      "text/plain": [
       "<Figure size 1440x720 with 2 Axes>"
      ]
     },
     "metadata": {
      "needs_background": "light"
     },
     "output_type": "display_data"
    }
   ],
   "source": [
    "fig = plt.figure(figsize=(20, 10))\n",
    "ax = fig.add_subplot(1,1,1)\n",
    "world.plot(column=GDP, ax=ax, legend=True)"
   ]
  },
  {
   "cell_type": "markdown",
   "metadata": {},
   "source": [
    "## Indexing\n",
    "\n",
    "* Indexing like in Pandas is possible\n",
    "* Using indexing like using a geometric index"
   ]
  },
  {
   "cell_type": "markdown",
   "metadata": {},
   "source": [
    "### Polygons bordering others"
   ]
  },
  {
   "cell_type": "code",
   "execution_count": 85,
   "metadata": {},
   "outputs": [
    {
     "data": {
      "text/html": [
       "<div>\n",
       "<style scoped>\n",
       "    .dataframe tbody tr th:only-of-type {\n",
       "        vertical-align: middle;\n",
       "    }\n",
       "\n",
       "    .dataframe tbody tr th {\n",
       "        vertical-align: top;\n",
       "    }\n",
       "\n",
       "    .dataframe thead th {\n",
       "        text-align: right;\n",
       "    }\n",
       "</style>\n",
       "<table border=\"1\" class=\"dataframe\">\n",
       "  <thead>\n",
       "    <tr style=\"text-align: right;\">\n",
       "      <th></th>\n",
       "      <th>pop_est</th>\n",
       "      <th>continent</th>\n",
       "      <th>name</th>\n",
       "      <th>iso_a3</th>\n",
       "      <th>gdp_md_est</th>\n",
       "      <th>geometry</th>\n",
       "      <th>area</th>\n",
       "    </tr>\n",
       "  </thead>\n",
       "  <tbody>\n",
       "    <tr>\n",
       "      <th>114</th>\n",
       "      <td>8754413</td>\n",
       "      <td>Europe</td>\n",
       "      <td>Austria</td>\n",
       "      <td>AUT</td>\n",
       "      <td>416600.0</td>\n",
       "      <td>POLYGON ((16.97967 48.12350, 16.90375 47.71487...</td>\n",
       "      <td>85033.0</td>\n",
       "    </tr>\n",
       "    <tr>\n",
       "      <th>115</th>\n",
       "      <td>9850845</td>\n",
       "      <td>Europe</td>\n",
       "      <td>Hungary</td>\n",
       "      <td>HUN</td>\n",
       "      <td>267600.0</td>\n",
       "      <td>POLYGON ((22.08561 48.42226, 22.64082 48.15024...</td>\n",
       "      <td>92435.0</td>\n",
       "    </tr>\n",
       "    <tr>\n",
       "      <th>126</th>\n",
       "      <td>4292095</td>\n",
       "      <td>Europe</td>\n",
       "      <td>Croatia</td>\n",
       "      <td>HRV</td>\n",
       "      <td>94240.0</td>\n",
       "      <td>POLYGON ((16.56481 46.50375, 16.88252 46.38063...</td>\n",
       "      <td>57543.0</td>\n",
       "    </tr>\n",
       "    <tr>\n",
       "      <th>141</th>\n",
       "      <td>62137802</td>\n",
       "      <td>Europe</td>\n",
       "      <td>Italy</td>\n",
       "      <td>ITA</td>\n",
       "      <td>2221000.0</td>\n",
       "      <td>MULTIPOLYGON (((10.44270 46.89355, 11.04856 46...</td>\n",
       "      <td>315263.0</td>\n",
       "    </tr>\n",
       "  </tbody>\n",
       "</table>\n",
       "</div>"
      ],
      "text/plain": [
       "      pop_est continent     name iso_a3  gdp_md_est  \\\n",
       "114   8754413    Europe  Austria    AUT    416600.0   \n",
       "115   9850845    Europe  Hungary    HUN    267600.0   \n",
       "126   4292095    Europe  Croatia    HRV     94240.0   \n",
       "141  62137802    Europe    Italy    ITA   2221000.0   \n",
       "\n",
       "                                              geometry      area  \n",
       "114  POLYGON ((16.97967 48.12350, 16.90375 47.71487...   85033.0  \n",
       "115  POLYGON ((22.08561 48.42226, 22.64082 48.15024...   92435.0  \n",
       "126  POLYGON ((16.56481 46.50375, 16.88252 46.38063...   57543.0  \n",
       "141  MULTIPOLYGON (((10.44270 46.89355, 11.04856 46...  315263.0  "
      ]
     },
     "execution_count": 85,
     "metadata": {},
     "output_type": "execute_result"
    }
   ],
   "source": [
    "world[world.touches(slovenia)]"
   ]
  },
  {
   "cell_type": "markdown",
   "metadata": {},
   "source": [
    "### Polygons within a box"
   ]
  },
  {
   "cell_type": "code",
   "execution_count": 38,
   "metadata": {},
   "outputs": [
    {
     "data": {
      "text/html": [
       "<div>\n",
       "<style scoped>\n",
       "    .dataframe tbody tr th:only-of-type {\n",
       "        vertical-align: middle;\n",
       "    }\n",
       "\n",
       "    .dataframe tbody tr th {\n",
       "        vertical-align: top;\n",
       "    }\n",
       "\n",
       "    .dataframe thead th {\n",
       "        text-align: right;\n",
       "    }\n",
       "</style>\n",
       "<table border=\"1\" class=\"dataframe\">\n",
       "  <thead>\n",
       "    <tr style=\"text-align: right;\">\n",
       "      <th></th>\n",
       "      <th>pop_est</th>\n",
       "      <th>continent</th>\n",
       "      <th>name</th>\n",
       "      <th>iso_a3</th>\n",
       "      <th>gdp_md_est</th>\n",
       "      <th>geometry</th>\n",
       "      <th>geometry_ESRI:54009</th>\n",
       "      <th>area</th>\n",
       "      <th>density</th>\n",
       "    </tr>\n",
       "  </thead>\n",
       "  <tbody>\n",
       "    <tr>\n",
       "      <th>43</th>\n",
       "      <td>67106161</td>\n",
       "      <td>Europe</td>\n",
       "      <td>France</td>\n",
       "      <td>-99</td>\n",
       "      <td>2699000.0</td>\n",
       "      <td>MULTIPOLYGON (((-51.65780 4.15623, -52.24934 3...</td>\n",
       "      <td>MULTIPOLYGON (((-5168883.083 513724.093, -5231...</td>\n",
       "      <td>645246.0</td>\n",
       "      <td>104.000894</td>\n",
       "    </tr>\n",
       "    <tr>\n",
       "      <th>132</th>\n",
       "      <td>48958159</td>\n",
       "      <td>Europe</td>\n",
       "      <td>Spain</td>\n",
       "      <td>ESP</td>\n",
       "      <td>1690000.0</td>\n",
       "      <td>POLYGON ((-7.45373 37.09779, -7.53711 37.42890...</td>\n",
       "      <td>POLYGON ((-649206.283 4462492.961, -654668.610...</td>\n",
       "      <td>502774.0</td>\n",
       "      <td>97.376076</td>\n",
       "    </tr>\n",
       "    <tr>\n",
       "      <th>141</th>\n",
       "      <td>62137802</td>\n",
       "      <td>Europe</td>\n",
       "      <td>Italy</td>\n",
       "      <td>ITA</td>\n",
       "      <td>2221000.0</td>\n",
       "      <td>MULTIPOLYGON (((10.44270 46.89355, 11.04856 46...</td>\n",
       "      <td>MULTIPOLYGON (((825535.862 5544385.378, 874885...</td>\n",
       "      <td>315263.0</td>\n",
       "      <td>197.098302</td>\n",
       "    </tr>\n",
       "    <tr>\n",
       "      <th>127</th>\n",
       "      <td>8236303</td>\n",
       "      <td>Europe</td>\n",
       "      <td>Switzerland</td>\n",
       "      <td>CHE</td>\n",
       "      <td>496300.0</td>\n",
       "      <td>POLYGON ((9.59423 47.52506, 9.63293 47.34760, ...</td>\n",
       "      <td>POLYGON ((752798.109 5611883.754, 757441.420 5...</td>\n",
       "      <td>46156.0</td>\n",
       "      <td>178.444904</td>\n",
       "    </tr>\n",
       "    <tr>\n",
       "      <th>128</th>\n",
       "      <td>594130</td>\n",
       "      <td>Europe</td>\n",
       "      <td>Luxembourg</td>\n",
       "      <td>LUX</td>\n",
       "      <td>58740.0</td>\n",
       "      <td>POLYGON ((6.04307 50.12805, 6.24275 49.90223, ...</td>\n",
       "      <td>POLYGON ((458882.538 5886875.084, 475453.027 5...</td>\n",
       "      <td>2413.0</td>\n",
       "      <td>246.220472</td>\n",
       "    </tr>\n",
       "    <tr>\n",
       "      <th>129</th>\n",
       "      <td>11491346</td>\n",
       "      <td>Europe</td>\n",
       "      <td>Belgium</td>\n",
       "      <td>BEL</td>\n",
       "      <td>508600.0</td>\n",
       "      <td>POLYGON ((6.15666 50.80372, 6.04307 50.12805, ...</td>\n",
       "      <td>POLYGON ((463309.557 5957377.168, 458882.538 5...</td>\n",
       "      <td>30086.0</td>\n",
       "      <td>381.949943</td>\n",
       "    </tr>\n",
       "    <tr>\n",
       "      <th>121</th>\n",
       "      <td>80594017</td>\n",
       "      <td>Europe</td>\n",
       "      <td>Germany</td>\n",
       "      <td>DEU</td>\n",
       "      <td>3979000.0</td>\n",
       "      <td>POLYGON ((14.11969 53.75703, 14.35332 53.24817...</td>\n",
       "      <td>POLYGON ((1018674.630 6261050.121, 1043430.938...</td>\n",
       "      <td>356928.0</td>\n",
       "      <td>225.799088</td>\n",
       "    </tr>\n",
       "  </tbody>\n",
       "</table>\n",
       "</div>"
      ],
      "text/plain": [
       "      pop_est continent         name iso_a3  gdp_md_est  \\\n",
       "43   67106161    Europe       France    -99   2699000.0   \n",
       "132  48958159    Europe        Spain    ESP   1690000.0   \n",
       "141  62137802    Europe        Italy    ITA   2221000.0   \n",
       "127   8236303    Europe  Switzerland    CHE    496300.0   \n",
       "128    594130    Europe   Luxembourg    LUX     58740.0   \n",
       "129  11491346    Europe      Belgium    BEL    508600.0   \n",
       "121  80594017    Europe      Germany    DEU   3979000.0   \n",
       "\n",
       "                                              geometry  \\\n",
       "43   MULTIPOLYGON (((-51.65780 4.15623, -52.24934 3...   \n",
       "132  POLYGON ((-7.45373 37.09779, -7.53711 37.42890...   \n",
       "141  MULTIPOLYGON (((10.44270 46.89355, 11.04856 46...   \n",
       "127  POLYGON ((9.59423 47.52506, 9.63293 47.34760, ...   \n",
       "128  POLYGON ((6.04307 50.12805, 6.24275 49.90223, ...   \n",
       "129  POLYGON ((6.15666 50.80372, 6.04307 50.12805, ...   \n",
       "121  POLYGON ((14.11969 53.75703, 14.35332 53.24817...   \n",
       "\n",
       "                                   geometry_ESRI:54009      area     density  \n",
       "43   MULTIPOLYGON (((-5168883.083 513724.093, -5231...  645246.0  104.000894  \n",
       "132  POLYGON ((-649206.283 4462492.961, -654668.610...  502774.0   97.376076  \n",
       "141  MULTIPOLYGON (((825535.862 5544385.378, 874885...  315263.0  197.098302  \n",
       "127  POLYGON ((752798.109 5611883.754, 757441.420 5...   46156.0  178.444904  \n",
       "128  POLYGON ((458882.538 5886875.084, 475453.027 5...    2413.0  246.220472  \n",
       "129  POLYGON ((463309.557 5957377.168, 458882.538 5...   30086.0  381.949943  \n",
       "121  POLYGON ((1018674.630 6261050.121, 1043430.938...  356928.0  225.799088  "
      ]
     },
     "execution_count": 38,
     "metadata": {},
     "output_type": "execute_result"
    }
   ],
   "source": [
    "world.loc[world.geometry.sindex.query(box(-1, 40, 8, 50), predicate=\"overlaps\")]"
   ]
  },
  {
   "cell_type": "markdown",
   "metadata": {},
   "source": [
    "### Polygons within a radius"
   ]
  },
  {
   "cell_type": "code",
   "execution_count": 73,
   "metadata": {},
   "outputs": [
    {
     "data": {
      "text/plain": [
       "(509363.5489684087, 5774328.95621065, 707649.5489684087, 5972614.95621065)"
      ]
     },
     "execution_count": 73,
     "metadata": {},
     "output_type": "execute_result"
    }
   ],
   "source": [
    "# Create a radius around Frankfurt as a polygon\n",
    "Frankfurt = gpd.GeoSeries([Point(8, 50)], crs=\"EPSG:4326\")\n",
    "\n",
    "Frankfurt = Frankfurt.to_crs(\"ESRI:54009\") \\\n",
    "                     .buffer(99143) \\\n",
    "                     .squeeze()\n",
    "\n",
    "Frankfurt_geo = gpd.GeoSeries([Frankfurt], crs=\"ESRI:54009\").to_crs(\"EPSG:4326\").squeeze()\n",
    "Frankfurt.bounds"
   ]
  },
  {
   "cell_type": "code",
   "execution_count": 74,
   "metadata": {},
   "outputs": [
    {
     "name": "stdout",
     "output_type": "stream",
     "text": [
      "CPU times: user 19.1 ms, sys: 2.69 ms, total: 21.8 ms\n",
      "Wall time: 20.6 ms\n"
     ]
    },
    {
     "data": {
      "text/html": [
       "<div>\n",
       "<style scoped>\n",
       "    .dataframe tbody tr th:only-of-type {\n",
       "        vertical-align: middle;\n",
       "    }\n",
       "\n",
       "    .dataframe tbody tr th {\n",
       "        vertical-align: top;\n",
       "    }\n",
       "\n",
       "    .dataframe thead th {\n",
       "        text-align: right;\n",
       "    }\n",
       "</style>\n",
       "<table border=\"1\" class=\"dataframe\">\n",
       "  <thead>\n",
       "    <tr style=\"text-align: right;\">\n",
       "      <th></th>\n",
       "      <th>pop_est</th>\n",
       "      <th>continent</th>\n",
       "      <th>name</th>\n",
       "      <th>iso_a3</th>\n",
       "      <th>gdp_md_est</th>\n",
       "      <th>geometry</th>\n",
       "      <th>geometry_ESRI:54009</th>\n",
       "      <th>area</th>\n",
       "      <th>density</th>\n",
       "    </tr>\n",
       "  </thead>\n",
       "  <tbody>\n",
       "    <tr>\n",
       "      <th>43</th>\n",
       "      <td>67106161</td>\n",
       "      <td>Europe</td>\n",
       "      <td>France</td>\n",
       "      <td>-99</td>\n",
       "      <td>2699000.0</td>\n",
       "      <td>MULTIPOLYGON (((-51.65780 4.15623, -52.24934 3...</td>\n",
       "      <td>MULTIPOLYGON (((-5168883.083 513724.093, -5231...</td>\n",
       "      <td>645246.0</td>\n",
       "      <td>104.000894</td>\n",
       "    </tr>\n",
       "    <tr>\n",
       "      <th>121</th>\n",
       "      <td>80594017</td>\n",
       "      <td>Europe</td>\n",
       "      <td>Germany</td>\n",
       "      <td>DEU</td>\n",
       "      <td>3979000.0</td>\n",
       "      <td>POLYGON ((14.11969 53.75703, 14.35332 53.24817...</td>\n",
       "      <td>POLYGON ((1018674.630 6261050.121, 1043430.938...</td>\n",
       "      <td>356928.0</td>\n",
       "      <td>225.799088</td>\n",
       "    </tr>\n",
       "  </tbody>\n",
       "</table>\n",
       "</div>"
      ],
      "text/plain": [
       "      pop_est continent     name iso_a3  gdp_md_est  \\\n",
       "43   67106161    Europe   France    -99   2699000.0   \n",
       "121  80594017    Europe  Germany    DEU   3979000.0   \n",
       "\n",
       "                                              geometry  \\\n",
       "43   MULTIPOLYGON (((-51.65780 4.15623, -52.24934 3...   \n",
       "121  POLYGON ((14.11969 53.75703, 14.35332 53.24817...   \n",
       "\n",
       "                                   geometry_ESRI:54009      area     density  \n",
       "43   MULTIPOLYGON (((-5168883.083 513724.093, -5231...  645246.0  104.000894  \n",
       "121  POLYGON ((1018674.630 6261050.121, 1043430.938...  356928.0  225.799088  "
      ]
     },
     "execution_count": 74,
     "metadata": {},
     "output_type": "execute_result"
    }
   ],
   "source": [
    "%%time\n",
    "world.loc[world.geometry.sindex.query(Frankfurt_geo, predicate=\"intersects\")]"
   ]
  },
  {
   "cell_type": "markdown",
   "metadata": {},
   "source": [
    "## Joining\n",
    "\n",
    "* joining on geometric columns could be slow if using conventional matching\n",
    "* sjoin using spatial indexing to speed the process up and allow for complicated geometric joining."
   ]
  },
  {
   "cell_type": "code",
   "execution_count": 32,
   "metadata": {},
   "outputs": [],
   "source": [
    "from geopandas.tools import sjoin"
   ]
  },
  {
   "cell_type": "code",
   "execution_count": 33,
   "metadata": {},
   "outputs": [],
   "source": [
    "adj = sjoin(world[[\"name\", \"geometry\"]],\n",
    "            world[[\"name\", \"geometry\"]],\n",
    "            op=\"touches\", how=\"left\")"
   ]
  },
  {
   "cell_type": "code",
   "execution_count": 34,
   "metadata": {},
   "outputs": [
    {
     "data": {
      "text/html": [
       "<div>\n",
       "<style scoped>\n",
       "    .dataframe tbody tr th:only-of-type {\n",
       "        vertical-align: middle;\n",
       "    }\n",
       "\n",
       "    .dataframe tbody tr th {\n",
       "        vertical-align: top;\n",
       "    }\n",
       "\n",
       "    .dataframe thead th {\n",
       "        text-align: right;\n",
       "    }\n",
       "</style>\n",
       "<table border=\"1\" class=\"dataframe\">\n",
       "  <thead>\n",
       "    <tr style=\"text-align: right;\">\n",
       "      <th></th>\n",
       "      <th>name_right</th>\n",
       "    </tr>\n",
       "    <tr>\n",
       "      <th>name_left</th>\n",
       "      <th></th>\n",
       "    </tr>\n",
       "  </thead>\n",
       "  <tbody>\n",
       "    <tr>\n",
       "      <th>Afghanistan</th>\n",
       "      <td>[Pakistan, China, Tajikistan, Turkmenistan, Uz...</td>\n",
       "    </tr>\n",
       "    <tr>\n",
       "      <th>Albania</th>\n",
       "      <td>[Greece, Macedonia, Kosovo, Montenegro]</td>\n",
       "    </tr>\n",
       "    <tr>\n",
       "      <th>Algeria</th>\n",
       "      <td>[Mauritania, W. Sahara, Libya, Morocco, Tunisi...</td>\n",
       "    </tr>\n",
       "    <tr>\n",
       "      <th>Angola</th>\n",
       "      <td>[Namibia, Zambia, Dem. Rep. Congo, Congo]</td>\n",
       "    </tr>\n",
       "    <tr>\n",
       "      <th>Antarctica</th>\n",
       "      <td>[nan]</td>\n",
       "    </tr>\n",
       "    <tr>\n",
       "      <th>...</th>\n",
       "      <td>...</td>\n",
       "    </tr>\n",
       "    <tr>\n",
       "      <th>W. Sahara</th>\n",
       "      <td>[Mauritania, Algeria, Morocco]</td>\n",
       "    </tr>\n",
       "    <tr>\n",
       "      <th>Yemen</th>\n",
       "      <td>[Oman, Saudi Arabia]</td>\n",
       "    </tr>\n",
       "    <tr>\n",
       "      <th>Zambia</th>\n",
       "      <td>[Namibia, Botswana, Zimbabwe, Mozambique, Mala...</td>\n",
       "    </tr>\n",
       "    <tr>\n",
       "      <th>Zimbabwe</th>\n",
       "      <td>[South Africa, Botswana, Mozambique, Zambia]</td>\n",
       "    </tr>\n",
       "    <tr>\n",
       "      <th>eSwatini</th>\n",
       "      <td>[South Africa, Mozambique]</td>\n",
       "    </tr>\n",
       "  </tbody>\n",
       "</table>\n",
       "<p>177 rows × 1 columns</p>\n",
       "</div>"
      ],
      "text/plain": [
       "                                                    name_right\n",
       "name_left                                                     \n",
       "Afghanistan  [Pakistan, China, Tajikistan, Turkmenistan, Uz...\n",
       "Albania                [Greece, Macedonia, Kosovo, Montenegro]\n",
       "Algeria      [Mauritania, W. Sahara, Libya, Morocco, Tunisi...\n",
       "Angola               [Namibia, Zambia, Dem. Rep. Congo, Congo]\n",
       "Antarctica                                               [nan]\n",
       "...                                                        ...\n",
       "W. Sahara                       [Mauritania, Algeria, Morocco]\n",
       "Yemen                                     [Oman, Saudi Arabia]\n",
       "Zambia       [Namibia, Botswana, Zimbabwe, Mozambique, Mala...\n",
       "Zimbabwe          [South Africa, Botswana, Mozambique, Zambia]\n",
       "eSwatini                            [South Africa, Mozambique]\n",
       "\n",
       "[177 rows x 1 columns]"
      ]
     },
     "execution_count": 34,
     "metadata": {},
     "output_type": "execute_result"
    }
   ],
   "source": [
    "adj.groupby(\"name_left\") \\\n",
    "   .agg({\n",
    "       \"name_right\": list\n",
    "   })"
   ]
  },
  {
   "cell_type": "code",
   "execution_count": null,
   "metadata": {},
   "outputs": [],
   "source": []
  }
 ],
 "metadata": {
  "kernelspec": {
   "display_name": "Python 3",
   "language": "python",
   "name": "python3"
  },
  "language_info": {
   "codemirror_mode": {
    "name": "ipython",
    "version": 3
   },
   "file_extension": ".py",
   "mimetype": "text/x-python",
   "name": "python",
   "nbconvert_exporter": "python",
   "pygments_lexer": "ipython3",
   "version": "3.8.5"
  }
 },
 "nbformat": 4,
 "nbformat_minor": 4
}
