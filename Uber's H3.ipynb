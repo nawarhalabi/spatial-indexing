{
 "cells": [
  {
   "cell_type": "markdown",
   "metadata": {},
   "source": [
    "# Hexagonal indexing\n",
    "\n",
    "https://eng.uber.com/h3/\n",
    "\n",
    "## Uber's H3\n",
    "\n",
    "* Uber works with a lot of geographical data. They open sourced one of their geo indexing libraries which devides a 2d space into hexagons possible in multiple granularities:\n",
    "  * Python wrapper is available with and intuitive API. Javascript binding as well\n",
    "  * Each lat, lng can be mapped in O(1) time to a hexagon id (hash) with a certain resolution\n",
    "  * Hexagon traversal is fast O(1) (operations like parent hexagon, child hexagons or adjacent hexagons)\n",
    "  * Only 2 Dimentional indexing over a sphere (planet earth). Nothing against using the same method over other 2 dimentional spaces\n",
    "  * In memory indexing (index not stored on disk) Unlike trees-based indexes which can be found in DBMS like postgis BUT since a hash id is produced, it can be used with any conventional indexes in any Database"
   ]
  },
  {
   "cell_type": "markdown",
   "metadata": {},
   "source": [
    "<img src=\"img/h3.png\"></img>\n",
    "<img src=\"img/h3splitting.png\"></img>"
   ]
  },
  {
   "cell_type": "markdown",
   "metadata": {},
   "source": [
    "## Why Hexagons?\n",
    "\n",
    "* Only three polygons tile together without gaps\n",
    "* Ability to naturaly devide a sphere's surface\n",
    "* Adjacent hexagons are equaly far\n",
    "* Traversal using only bitwise operations\n",
    "* They are not perfect though:\n",
    "  * A hexagon is not perfectly devidable to smaller hexagons\n",
    "  * Hexagons cannot perfectly cover planet earth (squares can)\n",
    "\n",
    "<img src=\"img/hexa.png\"></img>"
   ]
  },
  {
   "cell_type": "markdown",
   "metadata": {},
   "source": [
    "## Side note: Google's S2\n",
    "\n",
    "https://s2geometry.io/\n",
    "\n",
    "* Can be used for 2 Dimentioanl indexing on a sphere\n",
    "* In memory"
   ]
  },
  {
   "cell_type": "markdown",
   "metadata": {},
   "source": [
    "## installation"
   ]
  },
  {
   "cell_type": "code",
   "execution_count": 1,
   "metadata": {},
   "outputs": [
    {
     "name": "stdout",
     "output_type": "stream",
     "text": [
      "Requirement already satisfied: h3 in /Users/fr27lv/opt/anaconda3/lib/python3.8/site-packages (3.7.3)\n",
      "\u001b[33mWARNING: You are using pip version 21.2.4; however, version 21.3.1 is available.\n",
      "You should consider upgrading via the '/Users/fr27lv/opt/anaconda3/bin/python -m pip install --upgrade pip' command.\u001b[0m\n"
     ]
    }
   ],
   "source": [
    "!pip install h3"
   ]
  },
  {
   "cell_type": "code",
   "execution_count": 2,
   "metadata": {},
   "outputs": [],
   "source": [
    "import h3"
   ]
  },
  {
   "cell_type": "markdown",
   "metadata": {},
   "source": [
    "## Basic use\n",
    "\n",
    "### Indexing"
   ]
  },
  {
   "cell_type": "code",
   "execution_count": 3,
   "metadata": {},
   "outputs": [
    {
     "data": {
      "text/plain": [
       "'891faec4d37ffff'"
      ]
     },
     "execution_count": 3,
     "metadata": {},
     "output_type": "execute_result"
    }
   ],
   "source": [
    "# Get the id of the hexagon from lng/lat\n",
    "h3.geo_to_h3(lat=50, lng=8, resolution=9)"
   ]
  },
  {
   "cell_type": "markdown",
   "metadata": {},
   "source": [
    "* **Notice** the string. It is actually a 64bit number. It could be indexed using conventional database tree indecies.\n",
    "* This enable fast prefix queries for different resolutions."
   ]
  },
  {
   "cell_type": "code",
   "execution_count": 4,
   "metadata": {},
   "outputs": [
    {
     "data": {
      "text/plain": [
       "(49.99965438361455, 8.002389024210904)"
      ]
     },
     "execution_count": 4,
     "metadata": {},
     "output_type": "execute_result"
    }
   ],
   "source": [
    "# Get the lat/lng of the center of a hexagon from its id\n",
    "h3.h3_to_geo('891faec4d37ffff')"
   ]
  },
  {
   "cell_type": "code",
   "execution_count": 5,
   "metadata": {},
   "outputs": [
    {
     "data": {
      "text/plain": [
       "((50.00023096421835, 7.999905575883487),\n",
       " (49.998562822637005, 8.000148699309813),\n",
       " (49.99798621187932, 8.002632090638492),\n",
       " (49.999077737473364, 8.004872466948562),\n",
       " (50.000745899300895, 8.004629446418397),\n",
       " (50.001322515289395, 8.0021459466788))"
      ]
     },
     "execution_count": 5,
     "metadata": {},
     "output_type": "execute_result"
    }
   ],
   "source": [
    "# Get the polygon boundary of the hexagon from its id\n",
    "h3.h3_to_geo_boundary('891faec4d37ffff', geo_json=False)"
   ]
  },
  {
   "cell_type": "markdown",
   "metadata": {},
   "source": [
    "### Traversal"
   ]
  },
  {
   "cell_type": "code",
   "execution_count": 6,
   "metadata": {},
   "outputs": [
    {
     "data": {
      "text/plain": [
       "'871faec4dffffff'"
      ]
     },
     "execution_count": 6,
     "metadata": {},
     "output_type": "execute_result"
    }
   ],
   "source": [
    "# Get id of parent hexagon (hexagon in one resolution lower)\n",
    "h3.h3_to_parent('881faec4d3fffff')"
   ]
  },
  {
   "cell_type": "code",
   "execution_count": 7,
   "metadata": {},
   "outputs": [
    {
     "data": {
      "text/plain": [
       "{'8a1faec4d347fff',\n",
       " '8a1faec4d34ffff',\n",
       " '8a1faec4d357fff',\n",
       " '8a1faec4d35ffff',\n",
       " '8a1faec4d367fff',\n",
       " '8a1faec4d36ffff',\n",
       " '8a1faec4d377fff'}"
      ]
     },
     "execution_count": 7,
     "metadata": {},
     "output_type": "execute_result"
    }
   ],
   "source": [
    "# Get id of child hexagons (hexagon in one resolution higher)\n",
    "h3.h3_to_children('891faec4d37ffff')"
   ]
  },
  {
   "cell_type": "markdown",
   "metadata": {},
   "source": [
    "## Examples online\n",
    "\n",
    "https://towardsdatascience.com/fast-geospatial-indexing-with-h3-90e862482585\n",
    "\n",
    "https://observablehq.com/@nrabinowitz/h3-radius-lookup\n",
    "\n",
    "How to query using h3 as an index"
   ]
  },
  {
   "cell_type": "code",
   "execution_count": 8,
   "metadata": {},
   "outputs": [],
   "source": [
    "import pandas as pd\n",
    "import numpy as np\n",
    "\n",
    "res = 10"
   ]
  },
  {
   "cell_type": "markdown",
   "metadata": {},
   "source": [
    "## Example: Search for nearest points\n",
    "\n",
    "* Given 10000000 latitudes and longitudes (points on earth)\n",
    "* Find the closest points to one randomly chosen point"
   ]
  },
  {
   "cell_type": "code",
   "execution_count": 9,
   "metadata": {},
   "outputs": [
    {
     "name": "stdout",
     "output_type": "stream",
     "text": [
      "CPU times: user 2min 19s, sys: 2.23 s, total: 2min 21s\n",
      "Wall time: 2min 23s\n"
     ]
    },
    {
     "data": {
      "text/html": [
       "<div>\n",
       "<style scoped>\n",
       "    .dataframe tbody tr th:only-of-type {\n",
       "        vertical-align: middle;\n",
       "    }\n",
       "\n",
       "    .dataframe tbody tr th {\n",
       "        vertical-align: top;\n",
       "    }\n",
       "\n",
       "    .dataframe thead th {\n",
       "        text-align: right;\n",
       "    }\n",
       "</style>\n",
       "<table border=\"1\" class=\"dataframe\">\n",
       "  <thead>\n",
       "    <tr style=\"text-align: right;\">\n",
       "      <th></th>\n",
       "      <th>lat</th>\n",
       "      <th>lng</th>\n",
       "    </tr>\n",
       "    <tr>\n",
       "      <th>hexa</th>\n",
       "      <th></th>\n",
       "      <th></th>\n",
       "    </tr>\n",
       "  </thead>\n",
       "  <tbody>\n",
       "    <tr>\n",
       "      <th>8a033028e49ffff</th>\n",
       "      <td>87.57781</td>\n",
       "      <td>-162.796147</td>\n",
       "    </tr>\n",
       "  </tbody>\n",
       "</table>\n",
       "</div>"
      ],
      "text/plain": [
       "                      lat         lng\n",
       "hexa                                 \n",
       "8a033028e49ffff  87.57781 -162.796147"
      ]
     },
     "execution_count": 9,
     "metadata": {},
     "output_type": "execute_result"
    }
   ],
   "source": [
    "%%time\n",
    "\n",
    "# Our data points randomly generated\n",
    "data = pd.DataFrame({\n",
    "    \"lat\": np.random.uniform(-90, 90, 10000000),\n",
    "    \"lng\": np.random.uniform(-180, 180, 10000000)\n",
    "})\n",
    "data[\"hexa\"] = data.apply(lambda x:h3.geo_to_h3(resolution=res, **x), axis=1)\n",
    "data = data.set_index(\"hexa\")\n",
    "\n",
    "hexas = set(data.index)"
   ]
  },
  {
   "cell_type": "code",
   "execution_count": 10,
   "metadata": {},
   "outputs": [],
   "source": [
    "def nearest_point(dat, target):\n",
    "    \"\"\"Return points in dat nearest to target\"\"\"\n",
    "    radius = 1\n",
    "    \n",
    "    k_ring = h3.k_ring(target, radius)\n",
    "    cross = dat & k_ring\n",
    "    while len(cross) <= 1:\n",
    "        k_ring = h3.k_ring(target, radius)\n",
    "        cross = dat & k_ring\n",
    "        radius *= 2\n",
    "    return cross"
   ]
  },
  {
   "cell_type": "code",
   "execution_count": 11,
   "metadata": {},
   "outputs": [],
   "source": [
    "def query(dat, target, radius=1):\n",
    "    \"\"\"Return points within hexagon radius\"\"\"\n",
    "\n",
    "    k_ring = h3.k_ring(target, radius)\n",
    "    cross = dat & k_ring\n",
    "    \n",
    "    return cross"
   ]
  },
  {
   "cell_type": "code",
   "execution_count": 37,
   "metadata": {},
   "outputs": [],
   "source": [
    "# Target point. To search for points near it\n",
    "targets = data.sample(100).index"
   ]
  },
  {
   "cell_type": "code",
   "execution_count": 38,
   "metadata": {},
   "outputs": [
    {
     "name": "stdout",
     "output_type": "stream",
     "text": [
      "CPU times: user 707 ms, sys: 5.44 ms, total: 713 ms\n",
      "Wall time: 712 ms\n"
     ]
    }
   ],
   "source": [
    "%%time\n",
    "for target in targets:\n",
    "    nearest_point(hexas, target)"
   ]
  },
  {
   "cell_type": "code",
   "execution_count": 49,
   "metadata": {},
   "outputs": [],
   "source": [
    "from scipy.spatial import KDTree"
   ]
  },
  {
   "cell_type": "code",
   "execution_count": 50,
   "metadata": {},
   "outputs": [],
   "source": [
    "tree = KDTree(data.values)"
   ]
  },
  {
   "cell_type": "code",
   "execution_count": 59,
   "metadata": {},
   "outputs": [],
   "source": [
    "target = (np.random.uniform(-90, 90), np.random.uniform(-180, 180))"
   ]
  },
  {
   "cell_type": "code",
   "execution_count": 65,
   "metadata": {},
   "outputs": [
    {
     "name": "stdout",
     "output_type": "stream",
     "text": [
      "CPU times: user 278 µs, sys: 68 µs, total: 346 µs\n",
      "Wall time: 320 µs\n"
     ]
    }
   ],
   "source": [
    "%%time\n",
    "\n",
    "d, r = tree.query(target)\n",
    "\n",
    "#data.iloc[r, :], target"
   ]
  },
  {
   "cell_type": "markdown",
   "metadata": {},
   "source": [
    "## Comparisons\n",
    "\n",
    "* https://h3geo.org/docs/comparisons/s2/ good source to explore the latest in spatial indexing"
   ]
  },
  {
   "cell_type": "markdown",
   "metadata": {},
   "source": [
    "## H3 Benefits\n",
    "* Decoupling spatial indexing from database systems\n",
    "* Streaming: [Here](https://eng.uber.com/building-scalable-streaming-pipelines/) Uber shows how they use hex ids in a streaming setup to calculate their pricing features in realtime\n",
    "* Geared towards specific application (fault tolerance)\n",
    "* Saving disk space\n",
    "* Works with [kepler.gl](https://kepler.gl)\n",
    "* Looks good when visualised"
   ]
  },
  {
   "cell_type": "code",
   "execution_count": null,
   "metadata": {},
   "outputs": [],
   "source": []
  }
 ],
 "metadata": {
  "kernelspec": {
   "display_name": "Python 3",
   "language": "python",
   "name": "python3"
  },
  "language_info": {
   "codemirror_mode": {
    "name": "ipython",
    "version": 3
   },
   "file_extension": ".py",
   "mimetype": "text/x-python",
   "name": "python",
   "nbconvert_exporter": "python",
   "pygments_lexer": "ipython3",
   "version": "3.8.5"
  }
 },
 "nbformat": 4,
 "nbformat_minor": 4
}
