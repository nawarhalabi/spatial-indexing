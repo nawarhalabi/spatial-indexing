{
 "cells": [
  {
   "cell_type": "markdown",
   "metadata": {},
   "source": [
    "# Hexagonal indexing\n",
    "\n",
    "https://eng.uber.com/h3/\n",
    "\n",
    "## Uber's H3\n",
    "\n",
    "* Uber works with a lot of geographical data. They open sourced one of their geo indexing libraries which devides a 2d space into hexagons possible in multiple granularities:\n",
    "  * Python wrapper is available with and intuitive API. Javascript binding as well\n",
    "  * Each lat, lng can be mapped in O(1) time to a hexagon id (hash) with a certain resolution\n",
    "  * Hexagon traversal is fast O(1) (operations like parent hexagon, child hexagons or adjacent hexagons)\n",
    "  * Only 2 Dimentional indexing over a sphere (planet earth). Nothing against using the same method over other 2 dimentional spaces\n",
    "  * In memory indexing (index not stored on disk) Unlike trees-based indexes which can be found in DBMS like postgis"
   ]
  },
  {
   "cell_type": "markdown",
   "metadata": {},
   "source": [
    "<img src=\"h3.png\"></img>\n",
    "<img src=\"h3splitting.png\"></img>"
   ]
  },
  {
   "cell_type": "markdown",
   "metadata": {},
   "source": [
    "## Why Hexagons?\n",
    "\n",
    "* Ability to naturaly devide a sphere's surface\n",
    "* Adjacent hexagons are equaly far\n",
    "* Traversal using only bitwise operations\n",
    "* They are not perfect though:\n",
    "  * A hexagon is not perfectly devidable to smaller hexagons\n",
    "  * Hexagons cannot perfectly cover planet earth (squares can)\n",
    "\n",
    "<img src=\"hexa.png\"></img>"
   ]
  },
  {
   "cell_type": "markdown",
   "metadata": {},
   "source": [
    "## Side note: Google's S2\n",
    "\n",
    "https://s2geometry.io/\n",
    "\n",
    "* Can be used for 2 Dimentioanl indexing on a sphere\n",
    "* In memory"
   ]
  },
  {
   "cell_type": "markdown",
   "metadata": {},
   "source": [
    "## installation"
   ]
  },
  {
   "cell_type": "code",
   "execution_count": 1,
   "metadata": {},
   "outputs": [
    {
     "name": "stdout",
     "output_type": "stream",
     "text": [
      "Collecting h3\n",
      "  Downloading h3-3.7.3-cp38-cp38-macosx_10_9_x86_64.whl (675 kB)\n",
      "\u001b[K     |████████████████████████████████| 675 kB 2.6 MB/s eta 0:00:01\n",
      "\u001b[?25hInstalling collected packages: h3\n",
      "Successfully installed h3-3.7.3\n"
     ]
    }
   ],
   "source": [
    "!pip install h3"
   ]
  },
  {
   "cell_type": "code",
   "execution_count": 14,
   "metadata": {},
   "outputs": [],
   "source": [
    "import h3"
   ]
  },
  {
   "cell_type": "markdown",
   "metadata": {},
   "source": [
    "## Basic use\n",
    "\n",
    "### Indexing"
   ]
  },
  {
   "cell_type": "code",
   "execution_count": 30,
   "metadata": {},
   "outputs": [
    {
     "data": {
      "text/plain": [
       "'891faec4d37ffff'"
      ]
     },
     "execution_count": 30,
     "metadata": {},
     "output_type": "execute_result"
    }
   ],
   "source": [
    "# Get the id of the hexagon from lng/lat\n",
    "h3.geo_to_h3(lat=50, lng=8, resolution=9)"
   ]
  },
  {
   "cell_type": "code",
   "execution_count": 31,
   "metadata": {},
   "outputs": [
    {
     "data": {
      "text/plain": [
       "(49.99965438361455, 8.002389024210904)"
      ]
     },
     "execution_count": 31,
     "metadata": {},
     "output_type": "execute_result"
    }
   ],
   "source": [
    "# Get the lat/lng of the center of a hexagon from its id\n",
    "h3.h3_to_geo('891faec4d37ffff')"
   ]
  },
  {
   "cell_type": "code",
   "execution_count": 32,
   "metadata": {},
   "outputs": [
    {
     "data": {
      "text/plain": [
       "((50.00023096421835, 7.999905575883487),\n",
       " (49.998562822637005, 8.000148699309813),\n",
       " (49.99798621187932, 8.002632090638492),\n",
       " (49.999077737473364, 8.004872466948562),\n",
       " (50.000745899300895, 8.004629446418397),\n",
       " (50.001322515289395, 8.0021459466788))"
      ]
     },
     "execution_count": 32,
     "metadata": {},
     "output_type": "execute_result"
    }
   ],
   "source": [
    "# Get the polygon boundary of the hexagon from its id\n",
    "h3.h3_to_geo_boundary('891faec4d37ffff', geo_json=False)"
   ]
  },
  {
   "cell_type": "markdown",
   "metadata": {},
   "source": [
    "### Traversal"
   ]
  },
  {
   "cell_type": "code",
   "execution_count": 33,
   "metadata": {},
   "outputs": [
    {
     "data": {
      "text/plain": [
       "'881faec4d3fffff'"
      ]
     },
     "execution_count": 33,
     "metadata": {},
     "output_type": "execute_result"
    }
   ],
   "source": [
    "# Get id of parent hexagon (hexagon in one resolution lower)\n",
    "h3.h3_to_parent('891faec4d37ffff')"
   ]
  },
  {
   "cell_type": "code",
   "execution_count": 34,
   "metadata": {},
   "outputs": [
    {
     "data": {
      "text/plain": [
       "{'8a1faec4d347fff',\n",
       " '8a1faec4d34ffff',\n",
       " '8a1faec4d357fff',\n",
       " '8a1faec4d35ffff',\n",
       " '8a1faec4d367fff',\n",
       " '8a1faec4d36ffff',\n",
       " '8a1faec4d377fff'}"
      ]
     },
     "execution_count": 34,
     "metadata": {},
     "output_type": "execute_result"
    }
   ],
   "source": [
    "# Get id of child hexagons (hexagon in one resolution higher)\n",
    "h3.h3_to_children('891faec4d37ffff')"
   ]
  },
  {
   "cell_type": "markdown",
   "metadata": {},
   "source": [
    "## Examples online\n",
    "\n",
    "https://towardsdatascience.com/fast-geospatial-indexing-with-h3-90e862482585\n",
    "\n",
    "https://observablehq.com/@nrabinowitz/h3-radius-lookup\n",
    "\n",
    "How to query using h3 as an index"
   ]
  },
  {
   "cell_type": "code",
   "execution_count": 419,
   "metadata": {},
   "outputs": [],
   "source": [
    "import pandas as pd\n",
    "import numpy as np\n",
    "\n",
    "res = 6"
   ]
  },
  {
   "cell_type": "markdown",
   "metadata": {},
   "source": [
    "## Example: Search for nearest points\n",
    "\n",
    "* Given 10000000 latitudes and longitudes (points on earth)\n",
    "* Find the closest points to one randomly chosen point"
   ]
  },
  {
   "cell_type": "code",
   "execution_count": 420,
   "metadata": {},
   "outputs": [],
   "source": [
    "# Our data points randomly generated\n",
    "data = pd.DataFrame({\n",
    "    \"lat\": np.random.uniform(-90, 90, 10000000),\n",
    "    \"lng\": np.random.uniform(-180, 180, 10000000)\n",
    "})\n",
    "data[\"hexa\"] = data.apply(lambda x:h3.geo_to_h3(resolution=res, **x), axis=1)\n",
    "data = data.set_index(\"hexa\")\n",
    "\n",
    "# Target point. To search for points near it\n",
    "target = data.sample(1)"
   ]
  },
  {
   "cell_type": "code",
   "execution_count": 468,
   "metadata": {},
   "outputs": [],
   "source": [
    "def nearest_point(dat, target):\n",
    "    \"\"\"Return points in dat nearest to target\"\"\"\n",
    "    near = [target]\n",
    "    hexas = [target]\n",
    "    radius = 1\n",
    "    while len(near) <= 1:\n",
    "        near = dat.loc[dat.index.isin(hexas)]\n",
    "        hexas = h3.k_ring(target, radius)\n",
    "        radius *= 2\n",
    "    return near"
   ]
  },
  {
   "cell_type": "code",
   "execution_count": 481,
   "metadata": {},
   "outputs": [
    {
     "name": "stdout",
     "output_type": "stream",
     "text": [
      "CPU times: user 199 ms, sys: 2.93 ms, total: 202 ms\n",
      "Wall time: 202 ms\n"
     ]
    },
    {
     "data": {
      "text/html": [
       "<div>\n",
       "<style scoped>\n",
       "    .dataframe tbody tr th:only-of-type {\n",
       "        vertical-align: middle;\n",
       "    }\n",
       "\n",
       "    .dataframe tbody tr th {\n",
       "        vertical-align: top;\n",
       "    }\n",
       "\n",
       "    .dataframe thead th {\n",
       "        text-align: right;\n",
       "    }\n",
       "</style>\n",
       "<table border=\"1\" class=\"dataframe\">\n",
       "  <thead>\n",
       "    <tr style=\"text-align: right;\">\n",
       "      <th></th>\n",
       "      <th>lat</th>\n",
       "      <th>lng</th>\n",
       "      <th>dist</th>\n",
       "    </tr>\n",
       "    <tr>\n",
       "      <th>hexa</th>\n",
       "      <th></th>\n",
       "      <th></th>\n",
       "      <th></th>\n",
       "    </tr>\n",
       "  </thead>\n",
       "  <tbody>\n",
       "    <tr>\n",
       "      <th>8620c97a7ffffff</th>\n",
       "      <td>41.186616</td>\n",
       "      <td>86.245675</td>\n",
       "      <td>0.000000</td>\n",
       "    </tr>\n",
       "    <tr>\n",
       "      <th>8620c97a7ffffff</th>\n",
       "      <td>41.188211</td>\n",
       "      <td>86.239817</td>\n",
       "      <td>521.486056</td>\n",
       "    </tr>\n",
       "  </tbody>\n",
       "</table>\n",
       "</div>"
      ],
      "text/plain": [
       "                       lat        lng        dist\n",
       "hexa                                             \n",
       "8620c97a7ffffff  41.186616  86.245675    0.000000\n",
       "8620c97a7ffffff  41.188211  86.239817  521.486056"
      ]
     },
     "execution_count": 481,
     "metadata": {},
     "output_type": "execute_result"
    }
   ],
   "source": [
    "%%time\n",
    "\n",
    "nearest_point(data, target.index[0])"
   ]
  },
  {
   "cell_type": "code",
   "execution_count": null,
   "metadata": {},
   "outputs": [],
   "source": []
  }
 ],
 "metadata": {
  "kernelspec": {
   "display_name": "Python 3",
   "language": "python",
   "name": "python3"
  },
  "language_info": {
   "codemirror_mode": {
    "name": "ipython",
    "version": 3
   },
   "file_extension": ".py",
   "mimetype": "text/x-python",
   "name": "python",
   "nbconvert_exporter": "python",
   "pygments_lexer": "ipython3",
   "version": "3.8.5"
  }
 },
 "nbformat": 4,
 "nbformat_minor": 4
}
