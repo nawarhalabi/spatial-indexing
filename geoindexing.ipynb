{
 "cells": [
  {
   "cell_type": "markdown",
   "metadata": {},
   "source": [
    "# Geoindexing/Spatial Indexing\n",
    "\n",
    "**Indexing for spatial data. How can we make the managment and retreival of data structures with spatial data more efficient (space and time). We focus here on time.**\n",
    "* This can be in memory\n",
    "  * python/javascript\n",
    "* Or in a database\n",
    "  * Postgis addon to postgris\n",
    "  \n",
    "## Problem setup\n",
    "\n",
    "* Imagine you have 100000 points in a 2 dimentional space (latitude, longitude). Lets call these points \"data\"\n",
    "```python\n",
    "lng  = np.random.uniform(-180, 180, (100000, 1))\n",
    "lat  = np.random.uniform( -90,  90, (100000, 1))\n",
    "data = np.concatenate(lat, lng)\n",
    "```\n",
    "* And you are given an extra point. Lets call this point \"target\"\n",
    "```python\n",
    "target = np.random.uniform(-180, 180, 2)\n",
    "```\n",
    "* Your task is to find the point from data closest to \"target\". <strong>How would you do this?</strong>\n",
    "\n",
    "### The bad way\n",
    "\n",
    "* You would calculate the euclidian distiance to every point in data and \"target\" and choose the minimum\n",
    "* Takes too long. This takes linear time for a search operation relative to number of points in data\n",
    "* O(n)\n",
    "\n",
    "### The good way\n",
    "\n",
    "* Use a spacial index **after projecting the lat/lng to an appropriate projection** or **using appropriate distance measures**\n",
    "* Takes logarithmic time\n",
    "* O(log(n))\n",
    "\n",
    "### Other ways\n",
    "\n",
    "* Using different geohashing methods one could acheive better performance\n",
    "  * Uber's h3\n",
    "  * Google S2\n"
   ]
  },
  {
   "cell_type": "markdown",
   "metadata": {},
   "source": [
    "## Practical\n",
    "\n",
    "### Generate data"
   ]
  },
  {
   "cell_type": "code",
   "execution_count": 1,
   "metadata": {},
   "outputs": [
    {
     "data": {
      "text/plain": [
       "(array([[-16.06305487, -15.98630798],\n",
       "        [-10.40165439,  51.82928483],\n",
       "        [  4.1340833 ,  61.23445928],\n",
       "        ...,\n",
       "        [ 15.26745171,  93.36594643],\n",
       "        [-43.24971876, -97.0005834 ],\n",
       "        [ -3.86684693, -40.17036311]]),\n",
       " (74.41952951779595, 172.80289766480428))"
      ]
     },
     "execution_count": 1,
     "metadata": {},
     "output_type": "execute_result"
    }
   ],
   "source": [
    "import numpy as np\n",
    "\n",
    "lat  = np.random.uniform( -90,  90, (100000, 1))\n",
    "lng  = np.random.uniform(-180, 180, (100000, 1))\n",
    "data = np.concatenate([lat, lng], axis=1)\n",
    "\n",
    "target = (np.random.uniform(-90, 90), np.random.uniform(-180, 180))\n",
    "\n",
    "data, target"
   ]
  },
  {
   "cell_type": "markdown",
   "metadata": {},
   "source": [
    "### The bad way\n",
    "\n",
    "* Assume earths polar coordinate system is flat and use euclidian distance. This leads to errors in the results (nearest points and distance measures)\n",
    "* O(n) time complexity for querying a point"
   ]
  },
  {
   "cell_type": "code",
   "execution_count": 2,
   "metadata": {},
   "outputs": [
    {
     "name": "stdout",
     "output_type": "stream",
     "text": [
      "CPU times: user 5.09 ms, sys: 2.47 ms, total: 7.56 ms\n",
      "Wall time: 2.2 ms\n"
     ]
    }
   ],
   "source": [
    "%%time\n",
    "# Euclidian distance (without square rooting)\n",
    "dists = ((data[:,0] - target[0])**2 + \\\n",
    "         (data[:,1] - target[1])**2)\n",
    "\n",
    "idx   = dists.argmin()\n",
    "dist  = np.sqrt(dists.min())"
   ]
  },
  {
   "cell_type": "code",
   "execution_count": 3,
   "metadata": {},
   "outputs": [
    {
     "name": "stdout",
     "output_type": "stream",
     "text": [
      "index 57025\n",
      "distance 0.7207920347972745\n",
      "point [ 75.13807259 172.7460029 ]\n",
      "\n"
     ]
    }
   ],
   "source": [
    "# Notice the distance here does not represent the real bearing distance on earth's surface\n",
    "print('index', idx)\n",
    "print('distance', dist)\n",
    "print('point', data[idx])\n",
    "print()"
   ]
  },
  {
   "cell_type": "markdown",
   "metadata": {},
   "source": [
    "**Possible solutions:**\n",
    "\n",
    "* Use a different distance measure (bearing distance on earth's surface)\n",
    "* Use 3d geocentric coordinates (below) "
   ]
  },
  {
   "cell_type": "markdown",
   "metadata": {},
   "source": [
    "### The good way (almost), Spacial Indexing with KDtrees\n",
    "\n",
    "* [RTree](https://en.wikipedia.org/wiki/R-tree)\n",
    "* [KDTree](https://en.wikipedia.org/wiki/K-d_tree)\n",
    "\n",
    "features:\n",
    "* Space partitioning data structure based on n dimentions (in our case 2)\n",
    "* Iteratively split the data to two parts along each dimention to create a binary tree\n",
    "* O(log(n)) time complexity for Queries\n",
    "\n",
    "Disadvantages:\n",
    "\n",
    "* **Notice** that using the euclidian distance here would not return accurate results for polar coordinates like longitudes and latitudes!\n",
    "* When you query a nearest point, you do not get the nearest point after the initial tree depth search, you might need to traverse upwards to correct!\n",
    "* Does not work well for higher dimentions (curse of dimentionality)\n",
    "\n",
    "<img src=\"img/kdtree.png\" width=\"600px\">"
   ]
  },
  {
   "cell_type": "code",
   "execution_count": 4,
   "metadata": {},
   "outputs": [],
   "source": [
    "from scipy.spatial import KDTree"
   ]
  },
  {
   "cell_type": "code",
   "execution_count": 5,
   "metadata": {},
   "outputs": [
    {
     "name": "stdout",
     "output_type": "stream",
     "text": [
      "CPU times: user 35.5 ms, sys: 3.15 ms, total: 38.7 ms\n",
      "Wall time: 37.6 ms\n"
     ]
    }
   ],
   "source": [
    "%%time\n",
    "tree = KDTree(data)"
   ]
  },
  {
   "cell_type": "code",
   "execution_count": 6,
   "metadata": {},
   "outputs": [
    {
     "name": "stdout",
     "output_type": "stream",
     "text": [
      "CPU times: user 397 µs, sys: 306 µs, total: 703 µs\n",
      "Wall time: 450 µs\n"
     ]
    }
   ],
   "source": [
    "%%time\n",
    "dist, idx = tree.query(target)"
   ]
  },
  {
   "cell_type": "code",
   "execution_count": 7,
   "metadata": {},
   "outputs": [
    {
     "name": "stdout",
     "output_type": "stream",
     "text": [
      "index 57025\n",
      "distance 0.7207920347972745\n",
      "point [ 75.13807259 172.7460029 ]\n",
      "\n"
     ]
    }
   ],
   "source": [
    "print('index', idx)\n",
    "print('distance', dist)\n",
    "print('point', data[idx])\n",
    "print()"
   ]
  },
  {
   "cell_type": "markdown",
   "metadata": {},
   "source": [
    "### A right way, [3d geocentric coordinates](https://en.wikipedia.org/wiki/Earth-centered,_Earth-fixed_coordinate_system)\n",
    "\n",
    "**So far**, we measured the euclidian distance using coordinates which is wrong! Let's consider converting coordinates to a flat space:\n",
    "\n",
    "* Solves the distance measures inaccuracy and nearest neighbor point errors\n",
    "* Point are converted from lat, lng to (x, y, z) 3d corrdinates, and those are used in the spatial index instead\n",
    "* Not part of this presentation. Have a look at the link above for more details.\n",
    "\n",
    "<img src=\"img/geocentric.png\" width=\"600px\"/>"
   ]
  },
  {
   "cell_type": "markdown",
   "metadata": {},
   "source": [
    "### A right way, Spatial Indexing with [BallTrees](https://en.wikipedia.org/wiki/Ball_tree)\n",
    "\n",
    "* O(log(n)) time complexity for queries\n",
    "* Distance is measured correctly if correct distance measure is used (algorithm adapts to your distance measure)\n",
    "* Nearest points are detected correctly without need for corrections\n",
    "* Used by sklearn's nearest neigbor algorithems. Have a look at the 'algorithm' parameter in [sklearn's KNN](https://scikit-learn.org/stable/modules/generated/sklearn.neighbors.KNeighborsClassifier.html)\n",
    "* https://www.astroml.org/book_figures/chapter2/fig_balltree_example.html\n",
    "\n",
    "\n",
    "* **Main intiuition: If I am closer to a point than the edge of a circle, then I am closer to that point than any to any point in the circle!**\n",
    "* **UNLESS that point is inside the cricle** \n",
    "<img src=\"img/balltree.png\" />"
   ]
  },
  {
   "cell_type": "code",
   "execution_count": 8,
   "metadata": {},
   "outputs": [],
   "source": [
    "from sklearn.neighbors import BallTree\n",
    "import numpy as np"
   ]
  },
  {
   "cell_type": "code",
   "execution_count": 9,
   "metadata": {},
   "outputs": [
    {
     "name": "stdout",
     "output_type": "stream",
     "text": [
      "CPU times: user 78.1 ms, sys: 3.45 ms, total: 81.6 ms\n",
      "Wall time: 80.1 ms\n"
     ]
    }
   ],
   "source": [
    "%%time\n",
    "bt = BallTree(np.deg2rad(data), metric='haversine')"
   ]
  },
  {
   "cell_type": "code",
   "execution_count": 10,
   "metadata": {},
   "outputs": [
    {
     "name": "stdout",
     "output_type": "stream",
     "text": [
      "CPU times: user 887 µs, sys: 387 µs, total: 1.27 ms\n",
      "Wall time: 741 µs\n"
     ]
    }
   ],
   "source": [
    "%%time\n",
    "dist, idx = bt.query(np.deg2rad([target]))"
   ]
  },
  {
   "cell_type": "code",
   "execution_count": 11,
   "metadata": {},
   "outputs": [
    {
     "name": "stdout",
     "output_type": "stream",
     "text": [
      "index [[87940]]\n",
      "distance [[26.38197071]] km\n",
      "point [[[ 74.45833535 171.93038076]]]\n",
      "\n"
     ]
    }
   ],
   "source": [
    "print('index', idx)\n",
    "print('distance', dist * 6371, 'km')\n",
    "print('point', data[idx])\n",
    "print()"
   ]
  },
  {
   "cell_type": "markdown",
   "metadata": {},
   "source": [
    "## Geopandas"
   ]
  },
  {
   "cell_type": "markdown",
   "metadata": {},
   "source": [
    "* Geopandas relies on other libraries for geoindexing, geometry, projections, etc.\n",
    "* This leads to some restrictions in features of geopandas (at the time of writing, geopandas does not deal with 3d geocentric corrdinate systems well)\n",
    "* Often, KDtree from scipy or other geometric indexing tools are used to filter geopandas dataframers"
   ]
  },
  {
   "cell_type": "markdown",
   "metadata": {},
   "source": [
    "## Uber's H3"
   ]
  },
  {
   "cell_type": "markdown",
   "metadata": {},
   "source": [
    "* See H3 notebook"
   ]
  },
  {
   "cell_type": "code",
   "execution_count": null,
   "metadata": {},
   "outputs": [],
   "source": []
  }
 ],
 "metadata": {
  "kernelspec": {
   "display_name": "Python 3",
   "language": "python",
   "name": "python3"
  },
  "language_info": {
   "codemirror_mode": {
    "name": "ipython",
    "version": 3
   },
   "file_extension": ".py",
   "mimetype": "text/x-python",
   "name": "python",
   "nbconvert_exporter": "python",
   "pygments_lexer": "ipython3",
   "version": "3.8.5"
  }
 },
 "nbformat": 4,
 "nbformat_minor": 4
}
