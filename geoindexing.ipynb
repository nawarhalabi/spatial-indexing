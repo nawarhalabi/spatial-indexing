{
 "cells": [
  {
   "cell_type": "code",
   "execution_count": 12,
   "metadata": {},
   "outputs": [
    {
     "name": "stdout",
     "output_type": "stream",
     "text": [
      "absl-py==0.11.0\r\n",
      "alabaster==0.7.12\r\n",
      "anaconda-client==1.7.2\r\n",
      "anaconda-navigator==1.10.0\r\n",
      "anaconda-project==0.8.3\r\n",
      "appdirs==1.4.4\r\n",
      "applaunchservices==0.2.1\r\n",
      "appnope @ file:///opt/concourse/worker/volumes/live/0291c9e1-4b15-459f-623e-2770f55be269/volume/appnope_1594338395037/work\r\n",
      "appscript @ file:///opt/concourse/worker/volumes/live/50ca4c96-3090-40bb-6981-3a6114ed0af4/volume/appscript_1594840187551/work\r\n",
      "argh==0.26.2\r\n",
      "argon2-cffi @ file:///opt/concourse/worker/volumes/live/59af29ac-4890-416e-7ab7-794f8d6f7ecd/volume/argon2-cffi_1596828548321/work\r\n",
      "arrow==1.1.0\r\n",
      "asn1crypto @ file:///tmp/build/80754af9/asn1crypto_1596577642040/work\r\n",
      "astroid @ file:///opt/concourse/worker/volumes/live/21fd14a9-2a7e-484b-7394-5a9912cdcf80/volume/astroid_1592498459180/work\r\n",
      "astropy==4.0.2\r\n",
      "astunparse==1.6.3\r\n",
      "async-generator==1.10\r\n",
      "atomicwrites==1.4.0\r\n",
      "attrs @ file:///tmp/build/80754af9/attrs_1604765588209/work\r\n",
      "audioread==2.1.9\r\n",
      "autopep8 @ file:///tmp/build/80754af9/autopep8_1596578164842/work\r\n",
      "Babel @ file:///tmp/build/80754af9/babel_1605108370292/work\r\n",
      "backcall==0.2.0\r\n",
      "backports.functools-lru-cache==1.6.1\r\n",
      "backports.shutil-get-terminal-size==1.0.0\r\n",
      "backports.tempfile==1.0\r\n",
      "backports.weakref==1.0.post1\r\n",
      "backports.zoneinfo==0.2.1\r\n",
      "beautifulsoup4 @ file:///tmp/build/80754af9/beautifulsoup4_1601924105527/work\r\n",
      "binaryornot==0.4.4\r\n",
      "bitarray @ file:///opt/concourse/worker/volumes/live/fdfca23e-4dd8-48f7-512d-c4f3db552eeb/volume/bitarray_1605065128338/work\r\n",
      "bkcharts==0.2\r\n",
      "bleach @ file:///tmp/build/80754af9/bleach_1600439572647/work\r\n",
      "bokeh @ file:///opt/concourse/worker/volumes/live/b2253281-9b72-4dcb-624e-e22924b50435/volume/bokeh_1603297849453/work\r\n",
      "boto==2.49.0\r\n",
      "Bottleneck==1.3.2\r\n",
      "brotlipy==0.7.0\r\n",
      "bz2file==0.98\r\n",
      "cachetools==4.2.0\r\n",
      "certifi==2020.6.20\r\n",
      "cffi @ file:///opt/concourse/worker/volumes/live/b9607b09-b777-4ff7-53dc-287727eb8574/volume/cffi_1600699191154/work\r\n",
      "cfgv==3.3.1\r\n",
      "chardet==3.0.4\r\n",
      "charset-normalizer==2.0.6\r\n",
      "clang==5.0\r\n",
      "click==7.1.2\r\n",
      "click-plugins==1.1.1\r\n",
      "cligj==0.7.2\r\n",
      "clldutils==3.7.0\r\n",
      "cloudpickle @ file:///tmp/build/80754af9/cloudpickle_1598884132938/work\r\n",
      "clyent==1.2.2\r\n",
      "colorama @ file:///tmp/build/80754af9/colorama_1603211150991/work\r\n",
      "colorlog==4.7.2\r\n",
      "conda==4.9.2\r\n",
      "conda-build==3.20.5\r\n",
      "conda-package-handling @ file:///opt/concourse/worker/volumes/live/a7e34989-4c54-4cb6-4156-4e58ee270730/volume/conda-package-handling_1603018121300/work\r\n",
      "conda-verify==3.4.2\r\n",
      "ConfigArgParse==1.3\r\n",
      "configparser==5.0.2\r\n",
      "contextlib2==0.6.0.post1\r\n",
      "cookiecutter==1.7.3\r\n",
      "cryptography @ file:///opt/concourse/worker/volumes/live/aeb63a26-659e-4edb-5405-74ba8e0c76f2/volume/cryptography_1601046839724/work\r\n",
      "csvw==1.10.1\r\n",
      "cycler==0.10.0\r\n",
      "Cython @ file:///opt/concourse/worker/volumes/live/6158b663-a4ca-4e19-7e05-8807e4f79146/volume/cython_1594835048880/work\r\n",
      "cytoolz==0.11.0\r\n",
      "dask @ file:///tmp/build/80754af9/dask-core_1602083700509/work\r\n",
      "decorator==4.4.2\r\n",
      "defusedxml==0.6.0\r\n",
      "diff-match-patch @ file:///tmp/build/80754af9/diff-match-patch_1594828741838/work\r\n",
      "distlib==0.3.1\r\n",
      "distributed @ file:///opt/concourse/worker/volumes/live/bd66aa48-5cf5-4b60-6ed4-f204fff153f6/volume/distributed_1605066538557/work\r\n",
      "docutils==0.16\r\n",
      "entrypoints==0.3\r\n",
      "et-xmlfile==1.0.1\r\n",
      "fastcache==1.1.0\r\n",
      "filelock==3.0.12\r\n",
      "Fiona==1.8.20\r\n",
      "flake8 @ file:///tmp/build/80754af9/flake8_1601911421857/work\r\n",
      "Flask==1.1.2\r\n",
      "Flask-BasicAuth==0.2.0\r\n",
      "flatbuffers==1.12\r\n",
      "fsspec @ file:///tmp/build/80754af9/fsspec_1602684995936/work\r\n",
      "future==0.18.2\r\n",
      "g2p-seq2seq==6.2.2a0\r\n",
      "gast==0.4.0\r\n",
      "gensim==3.8.3\r\n",
      "geopandas==0.10.2\r\n",
      "germansentiment==1.0.6\r\n",
      "gevent @ file:///opt/concourse/worker/volumes/live/e6b243ce-c4b8-40bb-4934-ef3bf1c512f2/volume/gevent_1601397552921/work\r\n",
      "geventhttpclient==1.4.4\r\n",
      "glob2==0.7\r\n",
      "gmpy2==2.0.8\r\n",
      "google-api-core==1.26.3\r\n",
      "google-api-python-client==2.2.0\r\n",
      "google-auth==1.24.0\r\n",
      "google-auth-httplib2==0.1.0\r\n",
      "google-auth-oauthlib==0.4.2\r\n",
      "google-cloud-core==1.7.2\r\n",
      "google-cloud-logging==2.1.1\r\n",
      "google-cloud-storage==1.35.0\r\n",
      "google-crc32c==1.1.2\r\n",
      "google-pasta==0.2.0\r\n",
      "google-resumable-media==1.3.3\r\n",
      "googleapis-common-protos==1.53.0\r\n",
      "greenlet @ file:///opt/concourse/worker/volumes/live/02d5d57d-1f11-4cf9-580a-19e679c78dc9/volume/greenlet_1600874049903/work\r\n",
      "grpcio==1.39.0\r\n",
      "gunicorn==20.1.0\r\n",
      "gym==0.18.0\r\n",
      "h3==3.7.3\r\n",
      "h5py==3.1.0\r\n",
      "hazm==0.7.0\r\n",
      "hdbscan==0.8.27\r\n",
      "HeapDict==1.0.1\r\n",
      "histogrammar==1.0.25\r\n",
      "html5lib @ file:///tmp/build/80754af9/html5lib_1593446221756/work\r\n",
      "htmlmin==0.1.12\r\n",
      "httplib2==0.19.1\r\n",
      "huggingface-hub==0.0.17\r\n",
      "identify==2.3.0\r\n",
      "idna @ file:///tmp/build/80754af9/idna_1593446292537/work\r\n",
      "imageio @ file:///tmp/build/80754af9/imageio_1594161405741/work\r\n",
      "imagesize==1.2.0\r\n",
      "importlib-metadata @ file:///tmp/build/80754af9/importlib-metadata_1602276842396/work\r\n",
      "inflect==5.3.0\r\n",
      "ing-theme-matplotlib==0.1.8\r\n",
      "iniconfig @ file:///tmp/build/80754af9/iniconfig_1602780191262/work\r\n",
      "install==1.3.4\r\n",
      "intervaltree @ file:///tmp/build/80754af9/intervaltree_1598376443606/work\r\n",
      "ipykernel @ file:///opt/concourse/worker/volumes/live/88f541d3-5a27-498f-7391-f2e50ca36560/volume/ipykernel_1596206680118/work/dist/ipykernel-5.3.4-py3-none-any.whl\r\n",
      "ipython @ file:///opt/concourse/worker/volumes/live/26969e8f-c9f7-42dc-6ffb-b3effd424c49/volume/ipython_1604101242376/work\r\n",
      "ipython_genutils==0.2.0\r\n",
      "ipywidgets @ file:///tmp/build/80754af9/ipywidgets_1601490159889/work\r\n",
      "isodate==0.6.0\r\n",
      "isort @ file:///tmp/build/80754af9/isort_1602603989581/work\r\n",
      "itsdangerous==1.1.0\r\n",
      "jax==0.2.8\r\n",
      "jaxlib==0.1.59\r\n",
      "jdcal==1.4.1\r\n",
      "jedi @ file:///opt/concourse/worker/volumes/live/1c5c293b-9147-4b4b-5a7f-d3f5eddb8470/volume/jedi_1592841952519/work\r\n",
      "Jinja2==3.0.1\r\n",
      "jinja2-time==0.2.0\r\n",
      "joblib==1.0.1\r\n",
      "json5==0.9.5\r\n",
      "jsonschema @ file:///tmp/build/80754af9/jsonschema_1602607155483/work\r\n",
      "jupyter==1.0.0\r\n",
      "jupyter-client @ file:///tmp/build/80754af9/jupyter_client_1601311786391/work\r\n",
      "jupyter-console @ file:///tmp/build/80754af9/jupyter_console_1598884538475/work\r\n",
      "jupyter-core==4.6.3\r\n",
      "jupyterlab==2.2.6\r\n",
      "jupyterlab-pygments @ file:///tmp/build/80754af9/jupyterlab_pygments_1601490720602/work\r\n",
      "jupyterlab-server @ file:///tmp/build/80754af9/jupyterlab_server_1594164409481/work\r\n",
      "keras==2.6.0\r\n",
      "Keras-Preprocessing==1.1.2\r\n",
      "keyring @ file:///opt/concourse/worker/volumes/live/54fc3ec2-338b-44f5-5e13-d62afa6b5820/volume/keyring_1601490916376/work\r\n",
      "kiwisolver @ file:///opt/concourse/worker/volumes/live/b8936fa6-0e4b-47e7-4fb4-e02dbd4505ee/volume/kiwisolver_1604014598721/work\r\n",
      "lazy-object-proxy==1.4.3\r\n",
      "libarchive-c==2.9\r\n",
      "librosa==0.8.0\r\n",
      "libwapiti==0.2.1\r\n",
      "llvmlite==0.34.0\r\n",
      "locket==0.2.0\r\n",
      "locust==1.4.3\r\n",
      "lxml @ file:///opt/concourse/worker/volumes/live/9351a723-931c-40fa-7baa-f2f468cdccf6/volume/lxml_1603216287330/work\r\n",
      "Markdown==3.3.3\r\n",
      "MarkupSafe==2.0.1\r\n",
      "matplotlib @ file:///opt/concourse/worker/volumes/live/f7797860-f8aa-410c-4a56-72315954816b/volume/matplotlib-base_1603378002957/work\r\n",
      "mccabe==0.6.1\r\n",
      "mistune @ file:///opt/concourse/worker/volumes/live/95802d64-d39c-491b-74ce-b9326880ca54/volume/mistune_1594373201816/work\r\n",
      "mkl-fft==1.2.0\r\n",
      "mkl-random==1.1.1\r\n",
      "mkl-service==2.3.0\r\n",
      "mock==4.0.2\r\n",
      "monithoring @ file:///Users/fr27lv/Projects/P02380-pymonithor-client\r\n",
      "more-itertools @ file:///tmp/build/80754af9/more-itertools_1605111547926/work\r\n",
      "mpmath==1.1.0\r\n",
      "msgpack==1.0.0\r\n",
      "multipledispatch==0.6.0\r\n",
      "munch==2.5.0\r\n",
      "navigator-updater==0.2.1\r\n",
      "nbclient @ file:///tmp/build/80754af9/nbclient_1602783176460/work\r\n",
      "nbconvert @ file:///opt/concourse/worker/volumes/live/2b9c1d93-d0fd-432f-7d93-66c93d81b614/volume/nbconvert_1601914875037/work\r\n",
      "nbformat @ file:///tmp/build/80754af9/nbformat_1602783287752/work\r\n",
      "nest-asyncio @ file:///tmp/build/80754af9/nest-asyncio_1605115881283/work\r\n",
      "networkx @ file:///tmp/build/80754af9/networkx_1598376031484/work\r\n",
      "nltk==3.3\r\n",
      "nodeenv==1.6.0\r\n",
      "nose @ file:///opt/concourse/worker/volumes/live/a029938e-1732-4cd8-5b98-0542283d158b/volume/nose_1594377915100/work\r\n",
      "notebook @ file:///opt/concourse/worker/volumes/live/be0f3504-189d-4bae-4e57-c5d6da73ffcd/volume/notebook_1601501605350/work\r\n",
      "num2fawords==1.1\r\n",
      "numba @ file:///opt/concourse/worker/volumes/live/ae24c1ca-d916-4043-5919-a843fa33e451/volume/numba_1600084276085/work\r\n",
      "numexpr==2.7.1\r\n",
      "numpy==1.20.3\r\n",
      "numpydoc @ file:///tmp/build/80754af9/numpydoc_1605117425582/work\r\n",
      "oauth2client==4.1.3\r\n",
      "oauthlib==3.1.0\r\n",
      "olefile==0.46\r\n",
      "openpyxl @ file:///tmp/build/80754af9/openpyxl_1598113097404/work\r\n",
      "opt-einsum==3.3.0\r\n",
      "packaging==20.4\r\n",
      "pandas @ file:///opt/concourse/worker/volumes/live/f14cf8c4-c564-4eff-4b17-158e90dbf88a/volume/pandas_1602088128240/work\r\n",
      "pandocfilters @ file:///opt/concourse/worker/volumes/live/c330e404-216d-466b-5327-8ce8fe854d3a/volume/pandocfilters_1605120442288/work\r\n",
      "parso==0.7.0\r\n",
      "partd==1.1.0\r\n",
      "path @ file:///opt/concourse/worker/volumes/live/fcdf620c-46d6-4284-4c1e-5b8c3bc6c5c6/volume/path_1596907417277/work\r\n",
      "pathlib2 @ file:///opt/concourse/worker/volumes/live/de518564-0d9f-405e-472b-38136f0c2169/volume/pathlib2_1594381084269/work\r\n",
      "pathtools==0.1.2\r\n",
      "patsy==0.5.1\r\n",
      "pep8==1.7.1\r\n",
      "PersianG2p==0.3.2\r\n",
      "pexpect @ file:///opt/concourse/worker/volumes/live/8701bb20-ad87-46c7-5108-30c178cf97e5/volume/pexpect_1594383388344/work\r\n",
      "phik==0.12.0\r\n",
      "pickleshare @ file:///opt/concourse/worker/volumes/live/93ec39d8-05bb-4f84-7efc-98735bc39b70/volume/pickleshare_1594384101884/work\r\n",
      "Pillow==7.2.0\r\n",
      "pkginfo==1.6.1\r\n",
      "pluggy==0.13.1\r\n",
      "ply==3.11\r\n",
      "pooch==1.3.0\r\n",
      "popmon==0.4.2\r\n",
      "poyo==0.5.0\r\n",
      "pre-commit==2.15.0\r\n",
      "probatus==1.8.6\r\n",
      "prometheus-client==0.8.0\r\n",
      "prompt-toolkit @ file:///tmp/build/80754af9/prompt-toolkit_1602688806899/work\r\n",
      "proto-plus==1.19.0\r\n",
      "protobuf==3.14.0\r\n",
      "psutil @ file:///opt/concourse/worker/volumes/live/ff72f822-991c-4030-4f3a-8c41d3ac4e4f/volume/psutil_1598370232375/work\r\n",
      "psycopg2-binary==2.8.6\r\n",
      "ptyprocess==0.6.0\r\n",
      "py @ file:///tmp/build/80754af9/py_1593446248552/work\r\n",
      "py4j==0.10.9.2\r\n",
      "pyarrow==5.0.0\r\n",
      "pyasn1==0.4.8\r\n",
      "pyasn1-modules==0.2.8\r\n",
      "pybase64==1.2.0\r\n",
      "pycodestyle==2.6.0\r\n",
      "pycosat==0.6.3\r\n",
      "pycparser @ file:///tmp/build/80754af9/pycparser_1594388511720/work\r\n",
      "pycurl==7.43.0.6\r\n",
      "pydocstyle @ file:///tmp/build/80754af9/pydocstyle_1598885001695/work\r\n",
      "pyflakes==2.2.0\r\n",
      "pygeos==0.10.2\r\n",
      "pyglet==1.5.0\r\n",
      "Pygments @ file:///tmp/build/80754af9/pygments_1604103097372/work\r\n",
      "pylint @ file:///opt/concourse/worker/volumes/live/ed0164b6-bcc7-4f6b-7dd4-ad89660b5dcb/volume/pylint_1598624018129/work\r\n",
      "pynndescent==0.5.4\r\n",
      "pyodbc===4.0.0-unsupported\r\n",
      "pyOpenSSL @ file:///tmp/build/80754af9/pyopenssl_1594392929924/work\r\n",
      "pyparsing==2.4.7\r\n",
      "pyproj==3.2.1\r\n",
      "pyrsistent @ file:///opt/concourse/worker/volumes/live/ff11f3f0-615b-4508-471d-4d9f19fa6657/volume/pyrsistent_1600141727281/work\r\n",
      "PySocks @ file:///opt/concourse/worker/volumes/live/85a5b906-0e08-41d9-6f59-084cee4e9492/volume/pysocks_1594394636991/work\r\n",
      "pytest==6.2.4\r\n",
      "python-dateutil==2.8.1\r\n",
      "python-jsonrpc-server @ file:///tmp/build/80754af9/python-jsonrpc-server_1600278539111/work\r\n",
      "python-language-server @ file:///tmp/build/80754af9/python-language-server_1600454544709/work\r\n",
      "python-logstash==0.4.6\r\n",
      "python-slugify==5.0.2\r\n",
      "pytry==0.9.2\r\n",
      "pytz==2020.1\r\n",
      "PyWavelets @ file:///opt/concourse/worker/volumes/live/ea36e10f-66e8-43ae-511e-c4092764493f/volume/pywavelets_1601658378672/work\r\n",
      "PyYAML==5.3.1\r\n",
      "pyzmq==19.0.2\r\n",
      "QDarkStyle==2.8.1\r\n",
      "QtAwesome @ file:///tmp/build/80754af9/qtawesome_1602272867890/work\r\n",
      "qtconsole @ file:///tmp/build/80754af9/qtconsole_1600870028330/work\r\n",
      "QtPy==1.9.0\r\n",
      "regex @ file:///opt/concourse/worker/volumes/live/7f106f75-0e11-45be-4c20-6b071e37c646/volume/regex_1602786678165/work\r\n",
      "requests==2.26.0\r\n",
      "requests-futures==1.0.0\r\n",
      "requests-oauthlib==1.3.0\r\n",
      "resampy==0.2.2\r\n",
      "rfc3986==1.4.0\r\n",
      "rope @ file:///tmp/build/80754af9/rope_1602264064449/work\r\n",
      "rsa==4.7\r\n",
      "Rtree==0.9.4\r\n",
      "ruamel_yaml==0.15.87\r\n",
      "sacremoses==0.0.45\r\n",
      "saspy==3.7.5\r\n",
      "scikit-image==0.17.2\r\n",
      "scikit-learn==1.0\r\n",
      "scipy==1.7.1\r\n",
      "seaborn @ file:///tmp/build/80754af9/seaborn_1600553570093/work\r\n",
      "segments==2.2.0\r\n",
      "Send2Trash==1.5.0\r\n",
      "shap==0.39.0\r\n",
      "Shapely==1.8.0\r\n",
      "simplegeneric==0.8.1\r\n",
      "singledispatch @ file:///tmp/build/80754af9/singledispatch_1602523705405/work\r\n",
      "six @ file:///opt/concourse/worker/volumes/live/5b31cb27-1e37-4ca5-6e9f-86246eb206d2/volume/six_1605205320872/work\r\n",
      "sklearn==0.0\r\n",
      "slicer==0.0.7\r\n",
      "smart-open==5.2.0\r\n",
      "snowballstemmer==2.0.0\r\n",
      "sortedcollections==1.2.1\r\n",
      "sortedcontainers==2.2.2\r\n",
      "SoundFile==0.10.3.post1\r\n",
      "soupsieve==2.0.1\r\n",
      "Sphinx @ file:///tmp/build/80754af9/sphinx_1597428793432/work\r\n",
      "sphinx-rtd-theme==1.0.0\r\n",
      "sphinxcontrib-applehelp==1.0.2\r\n",
      "sphinxcontrib-devhelp==1.0.2\r\n",
      "sphinxcontrib-htmlhelp==1.0.3\r\n",
      "sphinxcontrib-jsmath==1.0.1\r\n",
      "sphinxcontrib-qthelp==1.0.3\r\n",
      "sphinxcontrib-serializinghtml==1.1.4\r\n",
      "sphinxcontrib-websupport @ file:///tmp/build/80754af9/sphinxcontrib-websupport_1597081412696/work\r\n",
      "spyder @ file:///opt/concourse/worker/volumes/live/93f52c11-6bc0-49a8-541e-aa5e1de1eadc/volume/spyder_1599056974853/work\r\n",
      "spyder-kernels @ file:///opt/concourse/worker/volumes/live/b4ec5b57-5b3c-42d0-7731-c0691f88ee81/volume/spyder-kernels_1599056790993/work\r\n",
      "SQLAlchemy @ file:///opt/concourse/worker/volumes/live/0214475e-3c0a-49a9-6cb8-ab2d5c945bef/volume/sqlalchemy_1603812264100/work\r\n",
      "statsmodels==0.12.2\r\n",
      "style==1.1.0\r\n",
      "sympy @ file:///opt/concourse/worker/volumes/live/d5d0b33b-5c2f-493b-5b67-8149e5531868/volume/sympy_1605119535834/work\r\n",
      "tables==3.6.1\r\n",
      "tabulate==0.8.9\r\n",
      "tblib @ file:///tmp/build/80754af9/tblib_1597928476713/work\r\n",
      "tensor2tensor==1.7.0\r\n",
      "tensorboard==2.6.0\r\n",
      "tensorboard-data-server==0.6.1\r\n",
      "tensorboard-plugin-wit==1.8.0\r\n",
      "tensorflow==2.6.0\r\n",
      "tensorflow-estimator==2.6.0\r\n",
      "tensorflow-hub==0.12.0\r\n",
      "tensorflow-text==2.6.0\r\n",
      "termcolor==1.1.0\r\n",
      "terminado==0.9.1\r\n",
      "testpath==0.4.4\r\n",
      "text-unidecode==1.3\r\n",
      "threadpoolctl @ file:///tmp/tmp9twdgx9k/threadpoolctl-2.1.0-py3-none-any.whl\r\n",
      "tifffile==2020.10.1\r\n",
      "tokenizers==0.10.3\r\n",
      "toml @ file:///tmp/build/80754af9/toml_1592853716807/work\r\n",
      "toolz @ file:///tmp/build/80754af9/toolz_1601054250827/work\r\n",
      "top2vec==1.0.26\r\n",
      "torch==1.9.1\r\n",
      "tornado==6.0.4\r\n",
      "tqdm @ file:///tmp/build/80754af9/tqdm_1602185206534/work\r\n",
      "traitlets @ file:///tmp/build/80754af9/traitlets_1602787416690/work\r\n",
      "transformers==4.10.3\r\n",
      "typing-extensions @ file:///tmp/build/80754af9/typing_extensions_1598376058250/work\r\n",
      "tzlocal==3.0\r\n",
      "ujson @ file:///opt/concourse/worker/volumes/live/2fc9988c-ebca-4577-6c4b-7383ea76e8ee/volume/ujson_1602523306974/work\r\n",
      "umap-learn==0.5.1\r\n",
      "unicodecsv==0.14.1\r\n",
      "update==0.0.1\r\n",
      "uritemplate==3.0.1\r\n",
      "urllib3 @ file:///tmp/build/80754af9/urllib3_1603305693037/work\r\n",
      "virtualenv==20.4.3\r\n",
      "watchdog @ file:///opt/concourse/worker/volumes/live/cc0ee7bb-1065-44c4-5867-0fd5d13729e0/volume/watchdog_1593447373245/work\r\n",
      "wcwidth @ file:///tmp/build/80754af9/wcwidth_1593447189090/work\r\n",
      "webencodings==0.5.1\r\n",
      "Werkzeug==1.0.1\r\n",
      "widgetsnbextension==3.5.1\r\n",
      "wordcloud==1.8.1\r\n",
      "wrapt==1.12.1\r\n",
      "wurlitzer @ file:///opt/concourse/worker/volumes/live/01a17f3d-eafe-4806-57a1-4b9ef5d1815f/volume/wurlitzer_1594753845129/work\r\n",
      "xarray==0.19.0\r\n",
      "xlrd==1.2.0\r\n",
      "XlsxWriter @ file:///tmp/build/80754af9/xlsxwriter_1602692860603/work\r\n",
      "xlwings==0.20.8\r\n",
      "xlwt==1.3.0\r\n",
      "xmltodict==0.12.0\r\n",
      "yapf @ file:///tmp/build/80754af9/yapf_1593528177422/work\r\n",
      "zict==2.0.0\r\n",
      "zipp @ file:///tmp/build/80754af9/zipp_1604001098328/work\r\n",
      "zope.event==4.5.0\r\n",
      "zope.interface @ file:///opt/concourse/worker/volumes/live/de428e3b-00ba-4161-442e-b9e5d25e4219/volume/zope.interface_1602002489816/work\r\n"
     ]
    }
   ],
   "source": [
    "!pip freeze numpy scipy scikit-learn"
   ]
  },
  {
   "cell_type": "markdown",
   "metadata": {},
   "source": [
    "# Geoindexing/Spatial Indexing\n",
    "\n",
    "**Indexing for spatial data. How can we make the managment and retreival of data structures with spatial data more efficient (space and time). We focus here on time.**\n",
    "* This can be in memory\n",
    "  * python/javascript\n",
    "* Or in a database\n",
    "  * Postgis addon to postgris\n",
    "  \n",
    "## Problem setup\n",
    "\n",
    "* Imagine you have 100000 points in a 2 dimentional space (latitude, longitude). Lets call these points \"data\"\n",
    "```python\n",
    "lng  = np.random.uniform(-180, 180, (100000, 1))\n",
    "lat  = np.random.uniform( -90,  90, (100000, 1))\n",
    "data = np.concatenate(lat, lng)\n",
    "```\n",
    "* And you are given an extra point. Lets call this point \"target\"\n",
    "```python\n",
    "target = np.random.uniform(-180, 180, 2)\n",
    "```\n",
    "* Your task is to find the point from data closest to \"target\". <strong>How would you do this?</strong>\n",
    "\n",
    "### The bad way\n",
    "\n",
    "* You would calculate the euclidian distiance to every point in data and \"target\" and choose the minimum\n",
    "* Takes too long. This takes linear time for a search operation relative to number of points in data\n",
    "* O(n)\n",
    "\n",
    "### The good way\n",
    "\n",
    "* Use a spacial index **after projecting the lat/lng to an appropriate projection** or **using appropriate distance measures**\n",
    "* Takes logarithmic time\n",
    "* O(log(n))\n",
    "\n",
    "### Other ways\n",
    "\n",
    "* Using different geohashing methods one could acheive better performance\n",
    "  * Uber's h3\n",
    "  * Google S2\n"
   ]
  },
  {
   "cell_type": "markdown",
   "metadata": {},
   "source": [
    "## Practical\n",
    "\n",
    "### Generate data"
   ]
  },
  {
   "cell_type": "code",
   "execution_count": 1,
   "metadata": {},
   "outputs": [
    {
     "data": {
      "text/plain": [
       "(array([[-16.06305487, -15.98630798],\n",
       "        [-10.40165439,  51.82928483],\n",
       "        [  4.1340833 ,  61.23445928],\n",
       "        ...,\n",
       "        [ 15.26745171,  93.36594643],\n",
       "        [-43.24971876, -97.0005834 ],\n",
       "        [ -3.86684693, -40.17036311]]),\n",
       " (74.41952951779595, 172.80289766480428))"
      ]
     },
     "execution_count": 1,
     "metadata": {},
     "output_type": "execute_result"
    }
   ],
   "source": [
    "import numpy as np\n",
    "\n",
    "lat  = np.random.uniform( -90,  90, (100000, 1))\n",
    "lng  = np.random.uniform(-180, 180, (100000, 1))\n",
    "data = np.concatenate([lat, lng], axis=1)\n",
    "\n",
    "target = (np.random.uniform(-90, 90), np.random.uniform(-180, 180))\n",
    "\n",
    "data, target"
   ]
  },
  {
   "cell_type": "markdown",
   "metadata": {},
   "source": [
    "### The bad way\n",
    "\n",
    "* Assume earths polar coordinate system is flat and use euclidian distance. This leads to errors in the results (nearest points and distance measures)\n",
    "* O(n) time complexity for querying a point"
   ]
  },
  {
   "cell_type": "code",
   "execution_count": 2,
   "metadata": {},
   "outputs": [
    {
     "name": "stdout",
     "output_type": "stream",
     "text": [
      "CPU times: user 5.09 ms, sys: 2.47 ms, total: 7.56 ms\n",
      "Wall time: 2.2 ms\n"
     ]
    }
   ],
   "source": [
    "%%time\n",
    "# Euclidian distance (without square rooting)\n",
    "dists = ((data[:,0] - target[0])**2 + \\\n",
    "         (data[:,1] - target[1])**2)\n",
    "\n",
    "idx   = dists.argmin()\n",
    "dist  = np.sqrt(dists.min())"
   ]
  },
  {
   "cell_type": "code",
   "execution_count": 3,
   "metadata": {},
   "outputs": [
    {
     "name": "stdout",
     "output_type": "stream",
     "text": [
      "index 57025\n",
      "distance 0.7207920347972745\n",
      "point [ 75.13807259 172.7460029 ]\n",
      "\n"
     ]
    }
   ],
   "source": [
    "# Notice the distance here does not represent the real bearing distance on earth's surface\n",
    "print('index', idx)\n",
    "print('distance', dist)\n",
    "print('point', data[idx])\n",
    "print()"
   ]
  },
  {
   "cell_type": "markdown",
   "metadata": {},
   "source": [
    "**Possible solutions:**\n",
    "\n",
    "* Use a different distance measure (bearing distance on earth's surface)\n",
    "* Use 3d geocentric coordinates (below) "
   ]
  },
  {
   "cell_type": "markdown",
   "metadata": {},
   "source": [
    "### The good way (almost), Spacial Indexing with KDtrees\n",
    "\n",
    "* [RTree](https://en.wikipedia.org/wiki/R-tree)\n",
    "* [KDTree](https://en.wikipedia.org/wiki/K-d_tree)\n",
    "\n",
    "features:\n",
    "* Space partitioning data structure based on n dimentions (in our case 2)\n",
    "* Iteratively split the data to two parts along each dimention to create a binary tree\n",
    "* O(log(n)) time complexity for Queries\n",
    "\n",
    "Disadvantages:\n",
    "\n",
    "* **Notice** that using the euclidian distance here would not return accurate results for polar coordinates like longitudes and latitudes!\n",
    "* When you query a nearest point, you do not get the nearest point after the initial tree depth search, you might need to traverse upwards to correct!\n",
    "* Does not work well for higher dimentions (curse of dimentionality)\n",
    "\n",
    "<img src=\"kdtree.png\" width=\"600px\">"
   ]
  },
  {
   "cell_type": "code",
   "execution_count": 4,
   "metadata": {},
   "outputs": [],
   "source": [
    "from scipy.spatial import KDTree"
   ]
  },
  {
   "cell_type": "code",
   "execution_count": 5,
   "metadata": {},
   "outputs": [
    {
     "name": "stdout",
     "output_type": "stream",
     "text": [
      "CPU times: user 35.5 ms, sys: 3.15 ms, total: 38.7 ms\n",
      "Wall time: 37.6 ms\n"
     ]
    }
   ],
   "source": [
    "%%time\n",
    "tree = KDTree(data)"
   ]
  },
  {
   "cell_type": "code",
   "execution_count": 6,
   "metadata": {},
   "outputs": [
    {
     "name": "stdout",
     "output_type": "stream",
     "text": [
      "CPU times: user 397 µs, sys: 306 µs, total: 703 µs\n",
      "Wall time: 450 µs\n"
     ]
    }
   ],
   "source": [
    "%%time\n",
    "dist, idx = tree.query(target)"
   ]
  },
  {
   "cell_type": "code",
   "execution_count": 7,
   "metadata": {},
   "outputs": [
    {
     "name": "stdout",
     "output_type": "stream",
     "text": [
      "index 57025\n",
      "distance 0.7207920347972745\n",
      "point [ 75.13807259 172.7460029 ]\n",
      "\n"
     ]
    }
   ],
   "source": [
    "print('index', idx)\n",
    "print('distance', dist)\n",
    "print('point', data[idx])\n",
    "print()"
   ]
  },
  {
   "cell_type": "markdown",
   "metadata": {},
   "source": [
    "### A right way, [3d geocentric coordinates](https://en.wikipedia.org/wiki/Earth-centered,_Earth-fixed_coordinate_system)\n",
    "\n",
    "**So far**, we measured the euclidian distance using coordinates which is wrong! Let's consider converting coordinates to a flat space:\n",
    "\n",
    "* Solves the distance measures inaccuracy and nearest neighbor point errors\n",
    "* Point are converted from lat, lng to (x, y, z) 3d corrdinates, and those are used in the spatial index instead\n",
    "* Not part of this presentation. Have a look at the link above for more details.\n",
    "\n",
    "<img src=\"geocentric.png\" width=\"600px\"/>"
   ]
  },
  {
   "cell_type": "markdown",
   "metadata": {},
   "source": [
    "### A right way, Spatial Indexing with [BallTrees](https://en.wikipedia.org/wiki/Ball_tree)\n",
    "\n",
    "* O(log(n)) time complexity for queries\n",
    "* Distance is measured correctly if correct distance measure is used (algorithm adapts to your distance measure)\n",
    "* Nearest points are detected correctly without need for corrections\n",
    "* Used by sklearn's nearest neigbor algorithems. Have a look at the 'algorithm' parameter in [sklearn's KNN](https://scikit-learn.org/stable/modules/generated/sklearn.neighbors.KNeighborsClassifier.html)\n",
    "* https://www.astroml.org/book_figures/chapter2/fig_balltree_example.html\n",
    "\n",
    "\n",
    "* **Main intiuition: If I am closer to a point than the edge of a circle, then I am closer to that point than any to any point in the circle!**\n",
    "* **UNLESS that point is inside the cricle** \n",
    "<img src=\"balltree.png\" />"
   ]
  },
  {
   "cell_type": "code",
   "execution_count": 8,
   "metadata": {},
   "outputs": [],
   "source": [
    "from sklearn.neighbors import BallTree\n",
    "import numpy as np"
   ]
  },
  {
   "cell_type": "code",
   "execution_count": 9,
   "metadata": {},
   "outputs": [
    {
     "name": "stdout",
     "output_type": "stream",
     "text": [
      "CPU times: user 78.1 ms, sys: 3.45 ms, total: 81.6 ms\n",
      "Wall time: 80.1 ms\n"
     ]
    }
   ],
   "source": [
    "%%time\n",
    "bt = BallTree(np.deg2rad(data), metric='haversine')"
   ]
  },
  {
   "cell_type": "code",
   "execution_count": 10,
   "metadata": {},
   "outputs": [
    {
     "name": "stdout",
     "output_type": "stream",
     "text": [
      "CPU times: user 887 µs, sys: 387 µs, total: 1.27 ms\n",
      "Wall time: 741 µs\n"
     ]
    }
   ],
   "source": [
    "%%time\n",
    "dist, idx = bt.query(np.deg2rad([target]))"
   ]
  },
  {
   "cell_type": "code",
   "execution_count": 11,
   "metadata": {},
   "outputs": [
    {
     "name": "stdout",
     "output_type": "stream",
     "text": [
      "index [[87940]]\n",
      "distance [[26.38197071]] km\n",
      "point [[[ 74.45833535 171.93038076]]]\n",
      "\n"
     ]
    }
   ],
   "source": [
    "print('index', idx)\n",
    "print('distance', dist * 6371, 'km')\n",
    "print('point', data[idx])\n",
    "print()"
   ]
  },
  {
   "cell_type": "markdown",
   "metadata": {},
   "source": [
    "## Geopandas"
   ]
  },
  {
   "cell_type": "markdown",
   "metadata": {},
   "source": [
    "* Geopandas relies on other libraries for geoindexing, geometry, projections, etc.\n",
    "* This leads to some restrictions in features of geopandas (at the time of writing, geopandas does not deal with 3d geocentric corrdinate systems well)\n",
    "* Often, KDtree from scipy or other geometric indexing tools are used to filter geopandas dataframers"
   ]
  },
  {
   "cell_type": "markdown",
   "metadata": {},
   "source": [
    "## Uber's H3"
   ]
  },
  {
   "cell_type": "markdown",
   "metadata": {},
   "source": [
    "* See H3 notebook"
   ]
  },
  {
   "cell_type": "code",
   "execution_count": null,
   "metadata": {},
   "outputs": [],
   "source": []
  }
 ],
 "metadata": {
  "kernelspec": {
   "display_name": "Python 3",
   "language": "python",
   "name": "python3"
  },
  "language_info": {
   "codemirror_mode": {
    "name": "ipython",
    "version": 3
   },
   "file_extension": ".py",
   "mimetype": "text/x-python",
   "name": "python",
   "nbconvert_exporter": "python",
   "pygments_lexer": "ipython3",
   "version": "3.8.5"
  }
 },
 "nbformat": 4,
 "nbformat_minor": 4
}
