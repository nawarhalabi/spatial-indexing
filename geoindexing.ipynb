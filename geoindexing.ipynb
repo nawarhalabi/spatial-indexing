{
 "cells": [
  {
   "cell_type": "markdown",
   "metadata": {},
   "source": [
    "# Geoindexing\n",
    "\n",
    "* Imagine you have 1000 points in a 2 dimentional space (latitude, longitude). Lets call these points \"data\"\n",
    "* And you are given an extra point. Lets call this point \"origin\"\n",
    "* Your task is to find the point from data closest to origin. How would you do this?\n",
    "\n",
    "## The bad way\n",
    "\n",
    "* You would calculate the euclidian distiance to every point in data and origin and choose the minimum\n",
    "* Takes too long. This takes linear time for a search operation relative to number of points in data\n",
    "* O(n)\n",
    "\n",
    "## The good way\n",
    "\n",
    "* Use a spacial index\n",
    "* Takes logarithmic time\n",
    "* O(log(n))\n"
   ]
  },
  {
   "cell_type": "markdown",
   "metadata": {},
   "source": [
    "# Spacial Indexing\n",
    "\n",
    "* RTree\n",
    "* KDTree https://en.wikipedia.org/wiki/K-d_tree\n",
    "\n",
    "Space partitioning data structure based on n dimentions (in our case 2)\n",
    "\n",
    "<img src=\"kdtree.png\">"
   ]
  },
  {
   "cell_type": "code",
   "execution_count": null,
   "metadata": {},
   "outputs": [],
   "source": []
  }
 ],
 "metadata": {
  "kernelspec": {
   "display_name": "Python 3",
   "language": "python",
   "name": "python3"
  },
  "language_info": {
   "codemirror_mode": {
    "name": "ipython",
    "version": 3
   },
   "file_extension": ".py",
   "mimetype": "text/x-python",
   "name": "python",
   "nbconvert_exporter": "python",
   "pygments_lexer": "ipython3",
   "version": "3.8.5"
  }
 },
 "nbformat": 4,
 "nbformat_minor": 4
}
